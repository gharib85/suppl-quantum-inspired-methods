{
 "cells": [
  {
   "cell_type": "markdown",
   "metadata": {},
   "source": [
    "Libraries for this notebook and for the core components"
   ]
  },
  {
   "cell_type": "code",
   "execution_count": 1,
   "metadata": {},
   "outputs": [],
   "source": [
    "# file: core_mps.py\n",
    "from core import *\n",
    "import sys\n",
    "if './seemps' not in sys.path:\n",
    "    sys.path = ['./seemps'] + sys.path\n",
    "import math\n",
    "import numpy as np\n",
    "import numpy.linalg\n",
    "import scipy.linalg\n",
    "import matplotlib.pyplot as plt\n",
    "from numpy import cos, sin, exp, sqrt\n",
    "from numpy import pi as π\n",
    "epsilon = np.finfo(np.float64).eps\n",
    "import mps\n",
    "import mps.state\n",
    "from mps.state import CanonicalMPS, MPS\n",
    "from mps.state import DEFAULT_TOLERANCE\n",
    "from mps.mpo import MPO, MPOList\n",
    "import os.path\n",
    "import pickle"
   ]
  },
  {
   "cell_type": "code",
   "execution_count": 2,
   "metadata": {},
   "outputs": [
    {
     "name": "stdout",
     "output_type": "stream",
     "text": [
      "Global props:\n",
      "fontsizes :\n",
      "     tiny :  6\n",
      "     scriptsize :  8\n",
      "     footnotesize :  9\n",
      "     small :  10\n",
      "     normalsize :  11\n",
      "     large :  12\n",
      "     Large :  14\n",
      "     LARGE :  17\n",
      "     huge :  20\n",
      "     Huge :  25\n",
      "colors :\n",
      "     quantumviolet :  #53257F\n",
      "     quantumgray :  #555555\n"
     ]
    }
   ],
   "source": [
    "from quantum_plots import *"
   ]
  },
  {
   "cell_type": "markdown",
   "metadata": {},
   "source": [
    "## Gaussian MPS"
   ]
  },
  {
   "cell_type": "markdown",
   "metadata": {},
   "source": [
    "### a) General form"
   ]
  },
  {
   "cell_type": "markdown",
   "metadata": {},
   "source": [
    "We write a sampling of a Gaussian state using MPS. The equation for the probability density is\n",
    "$$p(\\vec{x}) = \\frac{1}{(2\\pi)^{N/2}\\mathrm{det}(\\Sigma)}\n",
    "\\exp\\left[-\\frac{1}{2}(\\vec{x}-\\vec{\\mu})^T\\Sigma^{-2}(\\vec{x}-\\vec{\\mu})\\right]$$ "
   ]
  },
  {
   "cell_type": "markdown",
   "metadata": {},
   "source": [
    "The coordinates are sampled from a regular grid and the points are encoded as states of a quantum register. The $i$-th element of the vector coordinate $\\vec{x},$ can take different values, labeled by the integer $s$\n",
    "$$x_{is} - \\mu =  \\frac{b_i+a_i}{2} + \\frac{b_i-a_i}{2}s=c_i + r_{is}.$$\n",
    "Note that we have split the coordinate $x_i$ into a center $c_i$ and a displacement $r_{is}.$\n",
    "In this encoding, the integer $s$ takes both positive and negative values,\n",
    "$$s = \\sum_{n=1}^m 2^{m-n} (-1)^{s_n},$$\n",
    "depending on the state of $m$ qubit states $\\{s_1,s_2,\\ldots,s_m\\}$. "
   ]
  },
  {
   "cell_type": "markdown",
   "metadata": {},
   "source": [
    "If we define $C=\\Sigma^{-2}/2,$ the exponent for a fixed value of $s$ is\n",
    "$$E=\\sum_{i,j}\\sum_{s_i,s_j}(r_{is_i}+c_i) C_{ij} (r_{js_j} +c_j).$$"
   ]
  },
  {
   "cell_type": "markdown",
   "metadata": {},
   "source": [
    "Adding the bits we have\n",
    "$$E = \\sum_{ij,nn'} s_{i}^n J_{in,jn'}s_{j}^{n'} + \\sum_{in} h_{in}s_{i}^{n} + E_0,$$\n",
    "with the coupling\n",
    "$$J_{in,in'} = \\frac{\\delta_i \\delta_j}{2^{n+n'}} C_{ij},$$\n",
    "the magnetic field\n",
    "$$h_{in} = 2\\sum_{j}c_jC_{ij}\\frac{\\delta_i}{2^n},$$\n",
    "and the offset can accommodate also the normalization\n",
    "$$E_0 = \\sum_{ij}c_ia_jC_{ij} + \\log((2\\pi)^{N/2}\\mathrm{det}(\\Sigma)).$$ "
   ]
  },
  {
   "cell_type": "markdown",
   "metadata": {},
   "source": [
    "The following code constructs those matrices and vectors"
   ]
  },
  {
   "cell_type": "code",
   "execution_count": 3,
   "metadata": {},
   "outputs": [],
   "source": [
    "# file: core_mps.py\n",
    "\n",
    "def Gaussian2Ising(m, Σ, a, b):\n",
    "    a = np.asarray(a)\n",
    "    b = np.asarray(b)\n",
    "    Σ = np.asarray(Σ)\n",
    "    d = len(Σ)\n",
    "    assert len(a) == len(b) == len(Σ)\n",
    "    #\n",
    "    # Determine the interval\n",
    "    δ = (b-a)/2\n",
    "    c = (a+b)/2-δ/2**m\n",
    "    #\n",
    "    # Construct all coordinates\n",
    "    x = np.arange(2**m)\n",
    "    s = np.array([(x >> (m-i))&1 for i in range(1,m+1)])\n",
    "    s = (2*s-1)\n",
    "    x = s.T @ (1/2**np.arange(1,m+1))\n",
    "    x = δ * x.reshape(2**m,1) + c\n",
    "    #\n",
    "    # Construct quadratic form\n",
    "    C = 0.5 * numpy.linalg.inv(Σ@Σ)\n",
    "    r = np.kron(δ, 1.0/2**np.arange(1,m+1))\n",
    "    J = np.kron(C, np.ones((m,m))) * np.outer(r, r)\n",
    "    h = np.kron(((2*c) @ C), np.ones(m)) * r\n",
    "    δx = 2*δ/2**m\n",
    "    E0 = c @ C @ c + np.log((2*π)**(d/2.0)*np.linalg.det(Σ)) - np.sum(np.log(δx))\n",
    "    return J,h,E0,x,s"
   ]
  },
  {
   "cell_type": "markdown",
   "metadata": {},
   "source": [
    "A crude check of this is to test it with vectors"
   ]
  },
  {
   "cell_type": "code",
   "execution_count": 4,
   "metadata": {},
   "outputs": [],
   "source": [
    "def test1d(m, σ, a=None, b=None):\n",
    "    if b is None:\n",
    "        b = 7*σ\n",
    "    if a is None:\n",
    "        a = -b\n",
    "    J, h, E0, x, s = Gaussian2Ising(m, [[σ]], [a], [b])\n",
    "    #\n",
    "    # Construct the exponent\n",
    "    E = np.sum(s * (J @ s), 0) + h @ s + E0\n",
    "    #\n",
    "    # Construct wavefunction\n",
    "    p = np.exp(-E)\n",
    "    print(f'Normalization: {np.sum(p)}')\n",
    "    return p, x, s"
   ]
  },
  {
   "cell_type": "code",
   "execution_count": 5,
   "metadata": {},
   "outputs": [
    {
     "name": "stdout",
     "output_type": "stream",
     "text": [
      "Normalization: 0.9999999999974086\n"
     ]
    },
    {
     "data": {
      "text/plain": [
       "[<matplotlib.lines.Line2D at 0x1861f38fcc8>]"
      ]
     },
     "execution_count": 5,
     "metadata": {},
     "output_type": "execute_result"
    },
    {
     "data": {
      "image/png": "[encoded data removed]",
      "text/plain": [
       "<Figure size 386.4x238.519 with 1 Axes>"
      ]
     },
     "metadata": {},
     "output_type": "display_data"
    }
   ],
   "source": [
    "aux_p, aux_x, aux_s = test1d(8, 1.0)\n",
    "fig = plot_setup()\n",
    "plt.plot(aux_x, aux_p)"
   ]
  },
  {
   "cell_type": "markdown",
   "metadata": {},
   "source": [
    "### b) General Ising MPO"
   ]
  },
  {
   "cell_type": "markdown",
   "metadata": {},
   "source": [
    "The Gaussian probability distribution can be represented as a partition function\n",
    "$$\\psi(\\vec{s}) \\propto \\exp(-\\beta H)$$\n",
    "with the effective Hamiltonian\n",
    "$$H=\\sum_{uv} J_{uv}s_us_v + \\sum_u h_u + E_0.$$"
   ]
  },
  {
   "cell_type": "markdown",
   "metadata": {},
   "source": [
    "We can represent this partition function as a product of operators\n",
    "$$e^{-\\beta H} = \\prod_{u=0}^L \\exp\\left(-\\beta \\left[2\\sum_{v>u} J_{uv}s_us_v + s_u(h_u+J_{uu}) + \\frac{1}{L}E_0\\right]\\right)$$\n",
    "acting one after another onto the trivial probability distribution\n",
    "$$\\xi_e(\\vec{s}) = 1.$$"
   ]
  },
  {
   "cell_type": "markdown",
   "metadata": {},
   "source": [
    "The initial state $\\xi_e$ and the operators will be represented in tensor network form, using matrix-product states (MPS) and matrix-product operators (MPO). These forms allow for an efficient estimation of the action of the operators onto the state, provided that correlations do not blow up."
   ]
  },
  {
   "cell_type": "code",
   "execution_count": 6,
   "metadata": {},
   "outputs": [],
   "source": [
    "# file: core_mps.py\n",
    "\n",
    "def all_entropies(ψ):\n",
    "    return [CanonicalMPS(ψ._data,center=i).entanglement_entropyAtCenter()\n",
    "            for i in range(ψ.size)]"
   ]
  },
  {
   "cell_type": "code",
   "execution_count": 7,
   "metadata": {},
   "outputs": [],
   "source": [
    "# file: core_mps.py\n",
    "\n",
    "def flip(ψ, where):\n",
    "    A = ψ[where]\n",
    "    A = np.einsum('ij,ajb->aib', np.array([[0,1],[1,0]]), A)\n",
    "    return MPS([A if i == where else B for i,B in enumerate(ψ)])"
   ]
  },
  {
   "cell_type": "code",
   "execution_count": 8,
   "metadata": {},
   "outputs": [],
   "source": [
    "# file: core_mps.py\n",
    "def GaussianMPS(m, Σ, a=None, b=None, d=1, GR=True, reorder=False, fft=False, debug=[], **kwdargs):\n",
    "    \n",
    "    def IsingMPOs(β, J, h, E0=0.):\n",
    "        L = len(J)\n",
    "        def tensor(u,v):\n",
    "            A = np.zeros((2,2,2,2), dtype=np.float64)\n",
    "            if v == u:\n",
    "                A[1,1,1,1] = 1.\n",
    "                A[0,0,0,0] = 1.\n",
    "            else:\n",
    "                fac = β*J[v,u]\n",
    "                A[1,1,1,1] = exp(-fac)\n",
    "                A[1,0,0,1] = exp(+fac)\n",
    "                A[0,1,1,0] = exp(+fac)\n",
    "                A[0,0,0,0] = exp(-fac)\n",
    "            A[:,:,:,0] *= np.exp(-β*(E0/L+J[u,u]-h[u])/L)\n",
    "            A[:,:,:,1] *= np.exp(-β*(E0/L+J[u,u]+h[u])/L)\n",
    "            if v==L-1:\n",
    "                A = np.einsum('aijb->aij', A).reshape((A.shape[0],2,2,1))\n",
    "            if v==0:\n",
    "                A = np.einsum('aijb->ijb', A).reshape((1,2,2,A.shape[-1]))\n",
    "            return A\n",
    "        return MPOList([MPO([tensor(u,v) for v in range(L)], **kwdargs) for u in range(L)])\n",
    "\n",
    "    Σ = Σ * np.ones((d,d))\n",
    "    d = len(Σ)\n",
    "    σ, _ = scipy.linalg.eigh(Σ)\n",
    "    if b is None:\n",
    "        b = 7*max(σ)\n",
    "    if a is None:\n",
    "        a = -b\n",
    "    a *= np.ones(d)\n",
    "    b *= np.ones(d)\n",
    "    if GR:\n",
    "        β = 0.5\n",
    "    else:\n",
    "        β = 1.0\n",
    "    J0, h0, E0, x, s = Gaussian2Ising(m, Σ, a*np.ones(d), b*np.ones(d))\n",
    "    Jmax = np.trace(J0)*d\n",
    "    Jmax = max(scipy.linalg.eigh(J0)[0])*d\n",
    "    steps = max(int(Jmax/32),1)\n",
    "    if np.isscalar(reorder):\n",
    "        if reorder:\n",
    "            ndx = [dim*m + n for n in range(m) for dim in range(d)]\n",
    "        else:\n",
    "            ndx = np.arange(m*d)\n",
    "    else:\n",
    "        ndx = reorder\n",
    "        reorder = True\n",
    "    J = J0[np.ix_(ndx,ndx)]\n",
    "    h = h0[ndx]\n",
    "\n",
    "    mpos = IsingMPOs(β/steps, J, h, E0)\n",
    "    if debug:\n",
    "        print(f'Running {steps} steps with β={β} (Jmax={Jmax})\\nσ={σ}')\n",
    "        if debug == 'mpos':\n",
    "            for mpo in mpos:\n",
    "                for (i,A) in enumerate(mpo):\n",
    "                    print(f'A[{i}]=')\n",
    "                    print(A)\n",
    "    if GR:\n",
    "        ψmps = MPS([np.ones((1,2,1))/np.sqrt(2.0)]*(m*d))\n",
    "    else:\n",
    "        ψmps = MPS([np.ones((1,2,1))]*(m*d))\n",
    "    for i in range(steps):\n",
    "        ψmps = mpos.apply(ψmps)\n",
    "        if 'norm' in debug:\n",
    "            print(f'error={ψmps.error()}, |ψ|^2={ψmps.norm2()}')\n",
    "    totalerr = ψmps.error()\n",
    "    if debug:\n",
    "        print(f'Total estimated error {totalerr}')\n",
    "    if (d <= 3) and (len(J) <= 20) and debug:\n",
    "        D = 2**m\n",
    "        if d==1:\n",
    "            E = np.sum(s*(J0@s), 0) + h0@s + E0\n",
    "            p1 = exp(-E)\n",
    "        elif d==2:\n",
    "            Jxx = J0[np.ix_(range(m),range(m))]\n",
    "            Jxy = J0[np.ix_(range(m),range(m,2*m))]\n",
    "            Jyy = J0[np.ix_(range(m,2*m),range(m,2*m))]\n",
    "            Exx = np.sum(s*(Jxx @ s), 0) + h0[0:m]@s\n",
    "            Eyy = np.sum(s*(Jyy @ s), 0) + h0[m:]@s\n",
    "            Exy = 2*(s.T @ (Jxy @ s))\n",
    "            p1 = exp(-Exx.reshape(D,1)-Eyy.reshape(1,D)-Exy-E0).flatten()\n",
    "        elif d==3:\n",
    "            rx = range(m)\n",
    "            ry = range(m,2*m)\n",
    "            rz = range(2*m,3*m)\n",
    "            Jxx = J0[np.ix_(rx,rx)]\n",
    "            Jxy = J0[np.ix_(rx,ry)]\n",
    "            Jxz = J0[np.ix_(rx,rz)]\n",
    "            Jyy = J0[np.ix_(ry,ry)]\n",
    "            Jyz = J0[np.ix_(ry,rz)]\n",
    "            Jzz = J0[np.ix_(rz,rz)]\n",
    "            Exx = (np.sum(s*(Jxx @ s), 0) + h0[rx]@s).reshape(D,1,1)\n",
    "            Eyy = (np.sum(s*(Jyy @ s), 0) + h0[ry]@s).reshape(1,D,1)\n",
    "            Ezz = (np.sum(s*(Jzz @ s), 0) + h0[rz]@s).reshape(1,1,D)\n",
    "            Exy = 2*(s.T @ (Jxy @ s)).reshape(D,D,1)\n",
    "            Exz = 2*(s.T @ (Jxz @ s)).reshape(D,1,D)\n",
    "            Eyz = 2*(s.T @ (Jyz @ s)).reshape(1,D,D)\n",
    "            p1 = exp(-Exx-Eyy-Ezz-Exy-Exz-Eyz-E0).flatten()\n",
    "        p1 /= np.sum(p1)\n",
    "        p2 = ψmps.tovector()**2\n",
    "        p2 /= np.sum(p2)\n",
    "        if reorder:\n",
    "            p2 = p2.reshape([2]*(d*m))\n",
    "            p2 = np.moveaxis(p2, list(range(0,d*m)), ndx).flatten()\n",
    "        realerr1 = np.sum(np.abs(p1-p2))\n",
    "        realerr2 = np.linalg.norm(np.sqrt(p1)-np.sqrt(p2))\n",
    "        print(f'Probability error {realerr1}, norm error {realerr2}')\n",
    "        totalerr = realerr2\n",
    "    if d<=2 and 'plot' in debug:\n",
    "        if d==2:\n",
    "            p1 = np.sum(p1.reshape(2**m,2**m),1)\n",
    "            p2 = np.sum(p2.reshape(2**m,2**m),1)\n",
    "        fig = plot_setup(aspect_ratio=0.5/1.62,wide=True)\n",
    "        ax = fig.add_subplot(1,2,1)\n",
    "        ax.plot(p1, '-o', label='numerically exact')\n",
    "        ax.plot(p2, '-', label='mps (tol=1e-16)')\n",
    "        ax.set_xlabel('$x$')\n",
    "        ax.set_ylabel('$p(x)$')\n",
    "        ax.set_yscale('log')\n",
    "        ax = fig.add_subplot(1,2,2)\n",
    "        S = all_entropies(ψmps)\n",
    "        ax.plot(S)\n",
    "        ax.set_xlabel('$k$')\n",
    "        ax.set_ylabel('$S(\\\\rho^{(m,k)})$')\n",
    "        plt.tight_layout()\n",
    "    if isinstance(ψmps, CanonicalMPS):\n",
    "        ψmps._error = totalerr**2\n",
    "    return ψmps"
   ]
  },
  {
   "cell_type": "markdown",
   "metadata": {},
   "source": [
    "### c) One-dimensional analysis"
   ]
  },
  {
   "cell_type": "markdown",
   "metadata": {},
   "source": [
    "This example shows how to concatenate the MPO's to build a 1D Gaussian state. It also shows the entropy of entanglement with respect to all bipartitions."
   ]
  },
  {
   "cell_type": "code",
   "execution_count": 9,
   "metadata": {},
   "outputs": [
    {
     "name": "stdout",
     "output_type": "stream",
     "text": [
      "Running 1 steps with β=0.5 (Jmax=32.666542053222656)\n",
      "σ=[0.5]\n",
      "error=2.2269253297285233e-13, |ψ|^2=1.0\n",
      "Total estimated error 2.2269253297285233e-13\n",
      "Probability error 1.0035512246462303e-07, norm error 7.185727318577426e-07\n"
     ]
    },
    {
     "data": {
      "image/png": "[encoded data removed]",
      "text/plain": [
       "<Figure size 806.4x248.889 with 2 Axes>"
      ]
     },
     "metadata": {},
     "output_type": "display_data"
    }
   ],
   "source": [
    "if True:\n",
    "    aux_ψ = GaussianMPS(9, 0.5, a=-7, b=7, GR=True, simplify=True, normalize=True, tolerance=1e-14,\n",
    "                        debug='norm-plot')"
   ]
  },
  {
   "cell_type": "markdown",
   "metadata": {},
   "source": [
    "Using this, we can build various states, with different widths."
   ]
  },
  {
   "cell_type": "code",
   "execution_count": 10,
   "metadata": {},
   "outputs": [],
   "source": [
    "def test(M=10, tolerance=1e-16):\n",
    "    σs = np.linspace(0.1,5.0,30)\n",
    "    data = np.array([\n",
    "         (max(all_entropies(ψ)), np.sqrt(ψ.error()), ψ.norm2())\n",
    "         for σ in σs\n",
    "         for ψ in [GaussianMPS(M, σ, a=-7, b=7, GR=True, simplify=True, normalize=True, debug='norm')]\n",
    "    ])\n",
    "    fig = plot_setup(aspect_ratio=0.6/1.62,wide=True)\n",
    "    ax = fig.add_subplot(1,2,1)\n",
    "    ax.plot(σs, data[:,0])\n",
    "    ax.set_xlabel('$\\\\sigma$')\n",
    "    ax.set_ylabel('$\\\\mathrm{max}(S)$')\n",
    "    ax = fig.add_subplot(1,2,2)\n",
    "    ax.plot(σs, data[:,1], label=\"$\\\\varepsilon$\")\n",
    "    ax.plot(σs, data[:,2], label=\"$\\\\Vert{\\\\psi}\\\\Vert$\")\n",
    "    ax.set_yscale('log')\n",
    "    ax.set_xlabel('$\\\\sigma$')\n",
    "    ax.legend()"
   ]
  },
  {
   "cell_type": "markdown",
   "metadata": {},
   "source": [
    "We reproduce the same results as for exact states in 1D: entropy is at most 1 ebit. It goes down when the width exceeds the discretization interval."
   ]
  },
  {
   "cell_type": "code",
   "execution_count": 11,
   "metadata": {},
   "outputs": [
    {
     "name": "stdout",
     "output_type": "stream",
     "text": [
      "Running 25 steps with β=0.5 (Jmax=816.6658878326415)\n",
      "σ=[0.1]\n",
      "error=5.306615753965961e-15, |ψ|^2=1.0\n",
      "error=2.5480970442448606e-14, |ψ|^2=1.0\n",
      "error=4.966117406239303e-14, |ψ|^2=1.0\n",
      "error=8.330426354561887e-14, |ψ|^2=1.0000000000000002\n",
      "error=1.2810627876857208e-13, |ψ|^2=1.0\n",
      "error=2.1100220378729972e-13, |ψ|^2=1.0\n",
      "error=3.176488518886311e-13, |ψ|^2=1.0\n",
      "error=4.3438553786385413e-13, |ψ|^2=1.0000000000000002\n",
      "error=5.56965686808484e-13, |ψ|^2=0.9999999999999999\n",
      "error=6.051462616725195e-13, |ψ|^2=0.9999999999999999\n",
      "error=7.044646644366454e-13, |ψ|^2=0.9999999999999999\n",
      "error=9.927456261868183e-13, |ψ|^2=1.0\n",
      "error=1.195109595915443e-12, |ψ|^2=1.0\n",
      "error=1.324304615750841e-12, |ψ|^2=0.9999999999999998\n",
      "error=1.3486666048466005e-12, |ψ|^2=1.0\n",
      "error=1.4738072193992731e-12, |ψ|^2=1.0\n",
      "error=1.6044989490750714e-12, |ψ|^2=1.0\n",
      "error=1.7130491357043609e-12, |ψ|^2=1.0000000000000002\n",
      "error=1.8318790345518107e-12, |ψ|^2=1.0\n",
      "error=1.8605122887619454e-12, |ψ|^2=1.0\n",
      "error=2.0318176997614533e-12, |ψ|^2=1.0000000000000002\n",
      "error=2.236699075339018e-12, |ψ|^2=1.0\n",
      "error=2.4525841354115378e-12, |ψ|^2=0.9999999999999998\n",
      "error=2.634521287798207e-12, |ψ|^2=0.9999999999999999\n",
      "error=2.859742316101523e-12, |ψ|^2=1.0000000000000002\n",
      "Total estimated error 2.859742316101523e-12\n",
      "Probability error 7.906178204283923e-08, norm error 1.2266332272300352e-07\n",
      "Running 3 steps with β=0.5 (Jmax=112.88889080658313)\n",
      "σ=[0.26896552]\n",
      "error=9.320026075567763e-15, |ψ|^2=1.0\n",
      "error=1.6422529767526992e-14, |ψ|^2=1.0\n",
      "error=2.900115915908974e-14, |ψ|^2=0.9999999999999993\n",
      "Total estimated error 2.900115915908974e-14\n",
      "Probability error 4.18932663359868e-08, norm error 9.352836970546643e-08\n",
      "Running 1 steps with β=0.5 (Jmax=42.582677888725385)\n",
      "σ=[0.43793103]\n",
      "error=5.8237685921187185e-15, |ψ|^2=1.0\n",
      "Total estimated error 5.8237685921187185e-15\n",
      "Probability error 2.2863157936876016e-08, norm error 9.300977046406423e-08\n",
      "Running 1 steps with β=0.5 (Jmax=22.172521037811585)\n",
      "σ=[0.60689655]\n",
      "error=7.926312596650904e-15, |ψ|^2=1.0000000000000002\n",
      "Total estimated error 7.926312596650904e-15\n",
      "Probability error 2.2104183965210117e-08, norm error 4.395058571254658e-07\n",
      "Running 1 steps with β=0.5 (Jmax=13.566736032933363)\n",
      "σ=[0.77586207]\n",
      "error=5.176683192994417e-15, |ψ|^2=1.0\n",
      "Total estimated error 5.176683192994417e-15\n",
      "Probability error 2.6175799682752596e-08, norm error 8.643364559812361e-08\n",
      "Running 1 steps with β=0.5 (Jmax=9.148276568640465)\n",
      "σ=[0.94482759]\n",
      "error=1.1727904773533554e-14, |ψ|^2=1.0\n",
      "Total estimated error 1.1727904773533554e-14\n",
      "Probability error 2.5124760806340675e-08, norm error 3.4250538511576254e-08\n",
      "Running 1 steps with β=0.5 (Jmax=6.583174492875915)\n",
      "σ=[1.1137931]\n",
      "error=1.7654914228077498e-14, |ψ|^2=0.9999999999999994\n",
      "Total estimated error 1.7654914228077498e-14\n",
      "Probability error 4.760373903216973e-08, norm error 5.5171455749386315e-08\n",
      "Running 1 steps with β=0.5 (Jmax=4.96311720767756)\n",
      "σ=[1.28275862]\n",
      "error=1.423811659721692e-14, |ψ|^2=1.0\n",
      "Total estimated error 1.423811659721692e-14\n",
      "Probability error 3.417674858184006e-08, norm error 4.194294893152983e-08\n",
      "Running 1 steps with β=0.5 (Jmax=3.8750402653294183)\n",
      "σ=[1.45172414]\n",
      "error=1.776356839400251e-15, |ψ|^2=1.0\n",
      "Total estimated error 1.776356839400251e-15\n",
      "Probability error 3.980527454830657e-08, norm error 4.598355928239231e-08\n",
      "Running 1 steps with β=0.5 (Jmax=3.109171623663429)\n",
      "σ=[1.62068966]\n",
      "error=3.2970224835503573e-15, |ψ|^2=1.0\n",
      "Total estimated error 3.2970224835503573e-15\n",
      "Probability error 3.338387080503002e-08, norm error 3.044714626789268e-08\n",
      "Running 1 steps with β=0.5 (Jmax=2.549797526988879)\n",
      "σ=[1.78965517]\n",
      "error=1.776356839400251e-15, |ψ|^2=1.0000000000000002\n",
      "Total estimated error 1.776356839400251e-15\n",
      "Probability error 2.6313194426372954e-08, norm error 2.5431506903409237e-08\n",
      "Running 1 steps with β=0.5 (Jmax=2.1288435195994455)\n",
      "σ=[1.95862069]\n",
      "error=1.3832983931948887e-14, |ψ|^2=1.0\n",
      "Total estimated error 1.3832983931948887e-14\n",
      "Probability error 4.7931463014270275e-08, norm error 4.2952203323896394e-08\n",
      "Running 1 steps with β=0.5 (Jmax=1.8041393674817279)\n",
      "σ=[2.12758621]\n",
      "error=7.95375056388021e-15, |ψ|^2=0.9999999999999999\n",
      "Total estimated error 7.95375056388021e-15\n",
      "Probability error 4.286022347829946e-08, norm error 3.678529144034799e-08\n",
      "Running 1 steps with β=0.5 (Jmax=1.548431340500977)\n",
      "σ=[2.29655172]\n",
      "error=4.215923827933819e-15, |ψ|^2=1.0000000000000002\n",
      "Total estimated error 4.215923827933819e-15\n",
      "Probability error 3.767728612103302e-08, norm error 3.243146176800732e-08\n",
      "Running 1 steps with β=0.5 (Jmax=1.343471097202311)\n",
      "σ=[2.46551724]\n",
      "error=1.9949801355051372e-14, |ψ|^2=0.9999999999999996\n",
      "Total estimated error 1.9949801355051372e-14\n",
      "Probability error 4.13605397478592e-08, norm error 3.459113148242556e-08\n",
      "Running 1 steps with β=0.5 (Jmax=1.1766673262575926)\n",
      "σ=[2.63448276]\n",
      "error=1.0446453716054242e-14, |ψ|^2=1.0\n",
      "Total estimated error 1.0446453716054242e-14\n",
      "Probability error 2.7371200087789537e-08, norm error 2.240881691115259e-08\n",
      "Running 1 steps with β=0.5 (Jmax=1.0391047260419952)\n",
      "σ=[2.80344828]\n",
      "error=7.396614054764752e-15, |ψ|^2=1.0000000000000004\n",
      "Total estimated error 7.396614054764752e-15\n",
      "Probability error 5.165155006919039e-08, norm error 3.888312890312995e-08\n",
      "Running 1 steps with β=0.5 (Jmax=0.9243275117856433)\n",
      "σ=[2.97241379]\n",
      "error=1.776356839400251e-15, |ψ|^2=1.0\n",
      "Total estimated error 1.776356839400251e-15\n",
      "Probability error 6.126712755805455e-08, norm error 4.317550661214671e-08\n",
      "Running 1 steps with β=0.5 (Jmax=0.8275679391981303)\n",
      "σ=[3.14137931]\n",
      "error=4.440892098500627e-16, |ψ|^2=1.0\n",
      "Total estimated error 4.440892098500627e-16\n",
      "Probability error 4.065508194339511e-08, norm error 2.8080338765738466e-08\n",
      "Running 1 steps with β=0.5 (Jmax=0.7452430682153337)\n",
      "σ=[3.31034483]\n",
      "error=9.961071917307755e-15, |ψ|^2=1.0000000000000002\n",
      "Total estimated error 9.961071917307755e-15\n",
      "Probability error 3.824054630192767e-08, norm error 2.8239029354269474e-08\n",
      "Running 1 steps with β=0.5 (Jmax=0.6746182392827796)\n",
      "σ=[3.47931034]\n",
      "error=5.695246638886769e-15, |ψ|^2=1.0\n",
      "Total estimated error 5.695246638886769e-15\n",
      "Probability error 3.7619321312346325e-08, norm error 2.837090747064807e-08\n",
      "Running 1 steps with β=0.5 (Jmax=0.6135770059312712)\n",
      "σ=[3.64827586]\n",
      "error=1.403288259146041e-14, |ψ|^2=0.9999999999999999\n",
      "Total estimated error 1.403288259146041e-14\n",
      "Probability error 4.734438897836205e-08, norm error 3.5094390725535814e-08\n",
      "Running 1 steps with β=0.5 (Jmax=0.560460705967569)\n",
      "σ=[3.81724138]\n",
      "error=7.542980184566594e-15, |ψ|^2=1.0000000000000002\n",
      "Total estimated error 7.542980184566594e-15\n",
      "Probability error 3.430296485670012e-08, norm error 2.523133395653313e-08\n",
      "Running 1 steps with β=0.5 (Jmax=0.5139545830294563)\n",
      "σ=[3.9862069]\n",
      "error=6.185364767164141e-15, |ψ|^2=0.9999999999999998\n",
      "Total estimated error 6.185364767164141e-15\n",
      "Probability error 2.5189245013066373e-08, norm error 1.839534347027199e-08\n",
      "Running 1 steps with β=0.5 (Jmax=0.4730056381035118)\n",
      "σ=[4.15517241]\n",
      "error=7.971815492488226e-15, |ψ|^2=1.0\n",
      "Total estimated error 7.971815492488226e-15\n",
      "Probability error 5.2771842326277806e-08, norm error 3.781693396402865e-08\n",
      "Running 1 steps with β=0.5 (Jmax=0.43676249505076675)\n",
      "σ=[4.32413793]\n",
      "error=2.7755575615628917e-15, |ψ|^2=1.0\n",
      "Total estimated error 2.7755575615628917e-15\n",
      "Probability error 4.1949156156335585e-08, norm error 2.981261416311491e-08\n",
      "Running 1 steps with β=0.5 (Jmax=0.4045307874249998)\n",
      "σ=[4.49310345]\n",
      "error=6.346126575909395e-15, |ψ|^2=1.0\n",
      "Total estimated error 6.346126575909395e-15\n",
      "Probability error 3.361382613480948e-08, norm error 2.3726296299263773e-08\n",
      "Running 1 steps with β=0.5 (Jmax=0.37573965135327214)\n",
      "σ=[4.66206897]\n",
      "error=1.4032882591460407e-14, |ψ|^2=1.0\n",
      "Total estimated error 1.4032882591460407e-14\n",
      "Probability error 4.165586529604167e-08, norm error 3.044325188484699e-08\n",
      "Running 1 steps with β=0.5 (Jmax=0.3499162735637753)\n",
      "σ=[4.83103448]\n",
      "error=1.8486494523595895e-14, |ψ|^2=1.0\n",
      "Total estimated error 1.8486494523595895e-14\n",
      "Probability error 3.314247549513795e-08, norm error 2.4286505666324326e-08\n",
      "Running 1 steps with β=0.5 (Jmax=0.32666635513305664)\n",
      "σ=[5.]\n",
      "error=7.95375056388021e-15, |ψ|^2=0.9999999999999999\n",
      "Total estimated error 7.95375056388021e-15\n",
      "Probability error 6.692634393321061e-08, norm error 4.406794500162056e-08\n"
     ]
    },
    {
     "data": {
      "image/png": "[encoded data removed]",
      "text/plain": [
       "<Figure size 806.4x298.667 with 2 Axes>"
      ]
     },
     "metadata": {},
     "output_type": "display_data"
    }
   ],
   "source": [
    "test(M=10, tolerance=1e-16)"
   ]
  },
  {
   "cell_type": "markdown",
   "metadata": {},
   "source": [
    "### d) Two-dimensional analysis"
   ]
  },
  {
   "cell_type": "markdown",
   "metadata": {},
   "source": [
    "Construct the best MPS approximation to normal and squeezed 2D Gaussian states, using the iterated MPO method. Once built, estimate the entropies of all left-right bipartitions."
   ]
  },
  {
   "cell_type": "markdown",
   "metadata": {},
   "source": [
    "The following code is rather numerically intensive. It is written to be launched as MPI jobs in our cluster, using, for instance\n",
    "```\n",
    "mpirun -n 5 python -u job-2d-m5.py\n",
    "```\n",
    "It can run sequentially if you modify `make_entropies2d()` to avoid using the MPI `Manager()` class."
   ]
  },
  {
   "cell_type": "code",
   "execution_count": null,
   "metadata": {},
   "outputs": [],
   "source": [
    "# file: mpi_mps_entropies2d.py\n",
    "\n",
    "from core_mps import *\n",
    "import os, sys, os.path\n",
    "from mpijobs import Manager\n",
    "\n",
    "def entropies2d(m, σ, θ, reorder=False):\n",
    "    ψ = GaussianMPS(m, cmatrix2d([1.0, σ], θ), a=[-7,-7], b=[7,7],\n",
    "                    simplify=True, normalize=True, reorder=reorder, debug='norm')\n",
    "    χ = [A.shape for A in ψ]\n",
    "    return (σ, all_entropies(ψ), ψ.norm2(), np.sqrt(ψ.error()), χ, m, θ, reorder)\n",
    "    \n",
    "def make_entropies2d(M=10, filename='data-mps/entropies2d-m10-mps.pkl'):\n",
    "    mgr = Manager(debug=True)\n",
    "    if mgr.isroot and os.path.exists(filename):\n",
    "        os.remove(filename)\n",
    "    σs = np.linspace(0.1,1.,41)\n",
    "    mgr.run([(entropies2d, M, σ, π/4.) for σ in σs], filename)\n",
    "    mgr.run([(entropies2d, M, σ, 0., True) for σ in σs], filename)\n",
    "    mgr.run([(entropies2d, M, σ, 0.) for σ in σs], filename)"
   ]
  },
  {
   "cell_type": "code",
   "execution_count": null,
   "metadata": {},
   "outputs": [],
   "source": [
    "# file: job-2d-m5.py\n",
    "from mpi_mps_entropies2d import *\n",
    "make_entropies2d(M=5, filename='data-mps/entropies2d-m5-mps.pkl')"
   ]
  },
  {
   "cell_type": "code",
   "execution_count": null,
   "metadata": {},
   "outputs": [],
   "source": [
    "# file: job-2d-m7.py\n",
    "from mpi_mps_entropies2d import *\n",
    "make_entropies2d(M=7, filename='data-mps/entropies2d-m7-mps.pkl')"
   ]
  },
  {
   "cell_type": "code",
   "execution_count": null,
   "metadata": {},
   "outputs": [],
   "source": [
    "# file: job-2d-m9.py\n",
    "from mpi_mps_entropies2d import *\n",
    "make_entropies2d(M=9, filename='data-mps/entropies2d-m9-mps.pkl')"
   ]
  },
  {
   "cell_type": "code",
   "execution_count": null,
   "metadata": {},
   "outputs": [],
   "source": [
    "# file: job-2d-m11.py\n",
    "from mpi_mps_entropies2d import *\n",
    "make_entropies2d(M=11, filename='data-mps/entropies2d-m11-mps.pkl')"
   ]
  },
  {
   "cell_type": "code",
   "execution_count": null,
   "metadata": {},
   "outputs": [],
   "source": [
    "# file: job-2d-m14.py\n",
    "from mpi_mps_entropies2d import *\n",
    "make_entropies2d(M=14, filename='data-mps/entropies2d-m14-mps.pkl')"
   ]
  },
  {
   "cell_type": "code",
   "execution_count": null,
   "metadata": {},
   "outputs": [],
   "source": [
    "# file: job-2d-m16.py\n",
    "from mpi_mps_entropies2d import *\n",
    "make_entropies2d(M=16, filename='data-mps/entropies2d-m16-mps.pkl')"
   ]
  },
  {
   "cell_type": "code",
   "execution_count": null,
   "metadata": {},
   "outputs": [],
   "source": [
    "# file: job-2d-m18.py\n",
    "from mpi_mps_entropies2d import *\n",
    "make_entropies2d(M=18, filename='data-mps/entropies2d-m18-mps.pkl')"
   ]
  },
  {
   "cell_type": "markdown",
   "metadata": {},
   "source": [
    "### e) 3D systems"
   ]
  },
  {
   "cell_type": "markdown",
   "metadata": {},
   "source": [
    "Construct the best MPS approximation to normal and squeezed 3D Gaussian states, using the iterated MPO method. Once built, estimate the entropies of all left-right bipartitions."
   ]
  },
  {
   "cell_type": "markdown",
   "metadata": {},
   "source": [
    "The following code is rather numerically intensive. It is written to be launched as MPI jobs in our cluster, using, for instance\n",
    "```\n",
    "mpirun -n 5 python -u job-3d-m5.py\n",
    "```\n",
    "It can run sequentially if you modify `make_entropies3d()` to avoid using the MPI `Manager()` class."
   ]
  },
  {
   "cell_type": "code",
   "execution_count": null,
   "metadata": {},
   "outputs": [],
   "source": [
    "# file: mpi_mps_entropies3d.py\n",
    "\n",
    "from core_mps import *\n",
    "import os, sys, os.path\n",
    "from mpijobs import Manager\n",
    "\n",
    "def entropies(m, σ, θ, reorder=False):\n",
    "    ψ = GaussianMPS(m, cmatrix3d([σ, 1.0, σ], θ, θ), a=[-7,-7,-7], b=[7,7,7],\n",
    "                    simplify=True, normalize=True, reorder=reorder, debug='norm')\n",
    "    χ = [A.shape for A in ψ]\n",
    "    return (σ, all_entropies(ψ), ψ.norm2(), np.sqrt(ψ.error()), χ, m, θ)\n",
    "    \n",
    "def make_entropies3d(M=10, filename='data/entropies2d-m10-mps.pkl'):\n",
    "    mgr = Manager(debug=True)\n",
    "    if mgr.isroot and os.path.exists(filename):\n",
    "        os.remove(filename)\n",
    "    σs = np.linspace(0.1,1.,41)\n",
    "    mgr.run([(entropies, M, σ, π/4.) for σ in σs], filename)\n",
    "    mgr.run([(entropies, M, σ, 0., True) for σ in σs], filename)\n",
    "    mgr.run([(entropies, M, σ, 0.) for σ in σs], filename)"
   ]
  },
  {
   "cell_type": "code",
   "execution_count": null,
   "metadata": {},
   "outputs": [],
   "source": [
    "# file: job-3d-m5.py\n",
    "from mpi_mps_entropies3d import *\n",
    "make_entropies3d(M=5, filename='data-mps/entropies3d-m5-mps.pkl')"
   ]
  },
  {
   "cell_type": "code",
   "execution_count": null,
   "metadata": {},
   "outputs": [],
   "source": [
    "# file: job-3d-m7.py\n",
    "from mpi_mps_entropies3d import *\n",
    "make_entropies3d(M=7, filename='data-mps/entropies3d-m7-mps.pkl')"
   ]
  },
  {
   "cell_type": "code",
   "execution_count": null,
   "metadata": {},
   "outputs": [],
   "source": [
    "# file: job-3d-m9.py\n",
    "from mpi_mps_entropies3d import *\n",
    "make_entropies3d(M=9, filename='data-mps/entropies3d-m9-mps.pkl')"
   ]
  },
  {
   "cell_type": "code",
   "execution_count": null,
   "metadata": {},
   "outputs": [],
   "source": [
    "# file: job-3d-m11.py\n",
    "from mpi_mps_entropies3d import *\n",
    "make_entropies3d(M=11, filename='data-mps/entropies3d-m11-mps.pkl')"
   ]
  },
  {
   "cell_type": "code",
   "execution_count": null,
   "metadata": {},
   "outputs": [],
   "source": [
    "# file: job-3d-m12.py\n",
    "from mpi_mps_entropies3d import *\n",
    "make_entropies3d(M=11, filename='data-mps/entropies3d-m12-mps.pkl')"
   ]
  },
  {
   "cell_type": "code",
   "execution_count": null,
   "metadata": {},
   "outputs": [],
   "source": [
    "# file: job-3d-m13.py\n",
    "from mpi_mps_entropies3d import *\n",
    "make_entropies3d(M=11, filename='data-mps/entropies3d-m13-mps.pkl')"
   ]
  }
 ],
 "metadata": {
  "kernelspec": {
   "display_name": "Python 3",
   "language": "python",
   "name": "python3"
  },
  "language_info": {
   "codemirror_mode": {
    "name": "ipython",
    "version": 3
   },
   "file_extension": ".py",
   "mimetype": "text/x-python",
   "name": "python",
   "nbconvert_exporter": "python",
   "pygments_lexer": "ipython3",
   "version": "3.7.7"
  }
 },
 "nbformat": 4,
 "nbformat_minor": 4
}
