{
 "cells": [
  {
   "cell_type": "markdown",
   "metadata": {},
   "source": [
    "Libraries for this notebook and for the core components"
   ]
  },
  {
   "cell_type": "code",
   "execution_count": null,
   "metadata": {},
   "outputs": [],
   "source": [
    "# file: core_mps.py\n",
    "from core import *\n",
    "import sys\n",
    "if './seemps' not in sys.path:\n",
    "    sys.path = ['./seemps'] + sys.path\n",
    "import math\n",
    "import numpy as np\n",
    "import numpy.linalg\n",
    "import scipy.linalg\n",
    "import matplotlib.pyplot as plt\n",
    "from numpy import cos, sin, exp, sqrt\n",
    "from numpy import pi as π\n",
    "epsilon = np.finfo(np.float64).eps\n",
    "import mps\n",
    "import mps.state\n",
    "from mps.state import CanonicalMPS, MPS\n",
    "from mps.state import DEFAULT_TOLERANCE\n",
    "from mps.mpo import MPO, MPOList\n",
    "import os.path\n",
    "import pickle"
   ]
  },
  {
   "cell_type": "code",
   "execution_count": null,
   "metadata": {},
   "outputs": [],
   "source": [
    "from quantum_plots import *"
   ]
  },
  {
   "cell_type": "markdown",
   "metadata": {},
   "source": [
    "## Gaussian MPS"
   ]
  },
  {
   "cell_type": "markdown",
   "metadata": {},
   "source": [
    "### a) General form"
   ]
  },
  {
   "cell_type": "markdown",
   "metadata": {},
   "source": [
    "We write a sampling of a Gaussian state using MPS. The equation for the probability density is\n",
    "$$p(\\vec{x}) = \\frac{1}{(2\\pi)^{N/2}\\mathrm{det}(\\Sigma)}\n",
    "\\exp\\left[-\\frac{1}{2}(\\vec{x}-\\vec{\\mu})^T\\Sigma^{-2}(\\vec{x}-\\vec{\\mu})\\right]$$ "
   ]
  },
  {
   "cell_type": "markdown",
   "metadata": {},
   "source": [
    "The coordinates are sampled from a regular grid and the points are encoded as states of a quantum register. The $i$-th element of the vector coordinate $\\vec{x},$ can take different values, labeled by the integer $s$\n",
    "$$x_{is} - \\mu =  \\frac{b_i+a_i}{2} + \\frac{b_i-a_i}{2}s=c_i + r_{is}.$$\n",
    "Note that we have split the coordinate $x_i$ into a center $c_i$ and a displacement $r_{is}.$\n",
    "In this encoding, the integer $s$ takes both positive and negative values,\n",
    "$$s = \\sum_{n=1}^m 2^{m-n} (-1)^{s_n},$$\n",
    "depending on the state of $m$ qubit states $\\{s_1,s_2,\\ldots,s_m\\}$. "
   ]
  },
  {
   "cell_type": "markdown",
   "metadata": {},
   "source": [
    "If we define $C=\\Sigma^{-2}/2,$ the exponent for a fixed value of $s$ is\n",
    "$$E=\\sum_{i,j}\\sum_{s_i,s_j}(r_{is_i}+c_i) C_{ij} (r_{js_j} +c_j).$$"
   ]
  },
  {
   "cell_type": "markdown",
   "metadata": {},
   "source": [
    "Adding the bits we have\n",
    "$$E = \\sum_{ij,nn'} s_{i}^n J_{in,jn'}s_{j}^{n'} + \\sum_{in} h_{in}s_{i}^{n} + E_0,$$\n",
    "with the coupling\n",
    "$$J_{in,in'} = \\frac{\\delta_i \\delta_j}{2^{n+n'}} C_{ij},$$\n",
    "the magnetic field\n",
    "$$h_{in} = 2\\sum_{j}c_jC_{ij}\\frac{\\delta_i}{2^n},$$\n",
    "and the offset can accommodate also the normalization\n",
    "$$E_0 = \\sum_{ij}c_ia_jC_{ij} + \\log((2\\pi)^{N/2}\\mathrm{det}(\\Sigma)).$$ "
   ]
  },
  {
   "cell_type": "markdown",
   "metadata": {},
   "source": [
    "The following code constructs those matrices and vectors"
   ]
  },
  {
   "cell_type": "code",
   "execution_count": null,
   "metadata": {},
   "outputs": [],
   "source": [
    "# file: core_mps.py\n",
    "\n",
    "def Gaussian2Ising(m, Σ, a, b):\n",
    "    a = np.asarray(a)\n",
    "    b = np.asarray(b)\n",
    "    Σ = np.asarray(Σ)\n",
    "    d = len(Σ)\n",
    "    assert len(a) == len(b) == len(Σ)\n",
    "    #\n",
    "    # Determine the interval\n",
    "    δ = (b-a)/2\n",
    "    c = (a+b)/2-δ/2**m\n",
    "    #\n",
    "    # Construct all coordinates\n",
    "    x = np.arange(2**m)\n",
    "    s = np.array([(x >> (m-i))&1 for i in range(1,m+1)])\n",
    "    s = (2*s-1)\n",
    "    x = s.T @ (1/2**np.arange(1,m+1))\n",
    "    x = δ * x.reshape(2**m,1) + c\n",
    "    #\n",
    "    # Construct quadratic form\n",
    "    C = 0.5 * numpy.linalg.inv(Σ@Σ)\n",
    "    r = np.kron(δ, 1.0/2**np.arange(1,m+1))\n",
    "    J = np.kron(C, np.ones((m,m))) * np.outer(r, r)\n",
    "    h = np.kron(((2*c) @ C), np.ones(m)) * r\n",
    "    δx = 2*δ/2**m\n",
    "    E0 = c @ C @ c + np.log((2*π)**(d/2.0)*np.linalg.det(Σ)) - np.sum(np.log(δx))\n",
    "    return J,h,E0,x,s"
   ]
  },
  {
   "cell_type": "markdown",
   "metadata": {},
   "source": [
    "A crude check of this is to test it with vectors"
   ]
  },
  {
   "cell_type": "code",
   "execution_count": null,
   "metadata": {},
   "outputs": [],
   "source": [
    "def test1d(m, σ, a=None, b=None):\n",
    "    if b is None:\n",
    "        b = 7*σ\n",
    "    if a is None:\n",
    "        a = -b\n",
    "    J, h, E0, x, s = Gaussian2Ising(m, [[σ]], [a], [b])\n",
    "    #\n",
    "    # Construct the exponent\n",
    "    E = np.sum(s * (J @ s), 0) + h @ s + E0\n",
    "    #\n",
    "    # Construct wavefunction\n",
    "    p = np.exp(-E)\n",
    "    print(f'Normalization: {np.sum(p)}')\n",
    "    return p, x, s"
   ]
  },
  {
   "cell_type": "code",
   "execution_count": null,
   "metadata": {},
   "outputs": [],
   "source": [
    "aux_p, aux_x, aux_s = test1d(8, 1.0)\n",
    "fig = plot_setup()\n",
    "plt.plot(aux_x, aux_p)"
   ]
  },
  {
   "cell_type": "markdown",
   "metadata": {},
   "source": [
    "### b) General Ising MPO"
   ]
  },
  {
   "cell_type": "markdown",
   "metadata": {},
   "source": [
    "The Gaussian probability distribution can be represented as a partition function\n",
    "$$\\psi(\\vec{s}) \\propto \\exp(-\\beta H)$$\n",
    "with the effective Hamiltonian\n",
    "$$H=\\sum_{uv} J_{uv}s_us_v + \\sum_u h_u + E_0.$$"
   ]
  },
  {
   "cell_type": "markdown",
   "metadata": {},
   "source": [
    "We can represent this partition function as a product of operators\n",
    "$$e^{-\\beta H} = \\prod_{u=0}^L \\exp\\left(-\\beta \\left[2\\sum_{v>u} J_{uv}s_us_v + s_u(h_u+J_{uu}) + \\frac{1}{L}E_0\\right]\\right)$$\n",
    "acting one after another onto the trivial probability distribution\n",
    "$$\\xi_e(\\vec{s}) = 1.$$"
   ]
  },
  {
   "cell_type": "markdown",
   "metadata": {},
   "source": [
    "The initial state $\\xi_e$ and the operators will be represented in tensor network form, using matrix-product states (MPS) and matrix-product operators (MPO). These forms allow for an efficient estimation of the action of the operators onto the state, provided that correlations do not blow up."
   ]
  },
  {
   "cell_type": "code",
   "execution_count": null,
   "metadata": {},
   "outputs": [],
   "source": [
    "# file: core_mps.py\n",
    "\n",
    "def all_entropies(ψ):\n",
    "    return [CanonicalMPS(ψ._data,center=i).entanglement_entropyAtCenter()\n",
    "            for i in range(ψ.size)]"
   ]
  },
  {
   "cell_type": "code",
   "execution_count": null,
   "metadata": {},
   "outputs": [],
   "source": [
    "# file: core_mps.py\n",
    "\n",
    "def flip(ψ, where):\n",
    "    A = ψ[where]\n",
    "    A = np.einsum('ij,ajb->aib', np.array([[0,1],[1,0]]), A)\n",
    "    return MPS([A if i == where else B for i,B in enumerate(ψ)])"
   ]
  },
  {
   "cell_type": "code",
   "execution_count": null,
   "metadata": {},
   "outputs": [],
   "source": [
    "# file: core_mps.py\n",
    "def GaussianMPS(m, Σ, a=None, b=None, d=1, GR=True, reorder=False, fft=False, debug=[], **kwdargs):\n",
    "    \n",
    "    def IsingMPOs(β, J, h, E0=0.):\n",
    "        L = len(J)\n",
    "        def tensor(u,v):\n",
    "            A = np.zeros((2,2,2,2), dtype=np.float64)\n",
    "            if v == u:\n",
    "                A[1,1,1,1] = 1.\n",
    "                A[0,0,0,0] = 1.\n",
    "            else:\n",
    "                fac = β*J[v,u]\n",
    "                A[1,1,1,1] = exp(-fac)\n",
    "                A[1,0,0,1] = exp(+fac)\n",
    "                A[0,1,1,0] = exp(+fac)\n",
    "                A[0,0,0,0] = exp(-fac)\n",
    "            A[:,:,:,0] *= np.exp(-β*(E0/L+J[u,u]-h[u])/L)\n",
    "            A[:,:,:,1] *= np.exp(-β*(E0/L+J[u,u]+h[u])/L)\n",
    "            if v==L-1:\n",
    "                A = np.einsum('aijb->aij', A).reshape((A.shape[0],2,2,1))\n",
    "            if v==0:\n",
    "                A = np.einsum('aijb->ijb', A).reshape((1,2,2,A.shape[-1]))\n",
    "            return A\n",
    "        return MPOList([MPO([tensor(u,v) for v in range(L)], **kwdargs) for u in range(L)])\n",
    "\n",
    "    Σ = Σ * np.ones((d,d))\n",
    "    d = len(Σ)\n",
    "    σ, _ = scipy.linalg.eigh(Σ)\n",
    "    if b is None:\n",
    "        b = 7*max(σ)\n",
    "    if a is None:\n",
    "        a = -b\n",
    "    a *= np.ones(d)\n",
    "    b *= np.ones(d)\n",
    "    if GR:\n",
    "        β = 0.5\n",
    "    else:\n",
    "        β = 1.0\n",
    "    J0, h0, E0, x, s = Gaussian2Ising(m, Σ, a*np.ones(d), b*np.ones(d))\n",
    "    Jmax = np.trace(J0)*d\n",
    "    Jmax = max(scipy.linalg.eigh(J0)[0])*d\n",
    "    steps = max(int(Jmax/32),1)\n",
    "    if np.isscalar(reorder):\n",
    "        if reorder:\n",
    "            ndx = [dim*m + n for n in range(m) for dim in range(d)]\n",
    "        else:\n",
    "            ndx = np.arange(m*d)\n",
    "    else:\n",
    "        ndx = reorder\n",
    "        reorder = True\n",
    "    J = J0[np.ix_(ndx,ndx)]\n",
    "    h = h0[ndx]\n",
    "\n",
    "    mpos = IsingMPOs(β/steps, J, h, E0)\n",
    "    if debug:\n",
    "        print(f'Running {steps} steps with β={β} (Jmax={Jmax})\\nσ={σ}')\n",
    "        if debug == 'mpos':\n",
    "            for mpo in mpos:\n",
    "                for (i,A) in enumerate(mpo):\n",
    "                    print(f'A[{i}]=')\n",
    "                    print(A)\n",
    "    if GR:\n",
    "        ψmps = MPS([np.ones((1,2,1))/np.sqrt(2.0)]*(m*d))\n",
    "    else:\n",
    "        ψmps = MPS([np.ones((1,2,1))]*(m*d))\n",
    "    for i in range(steps):\n",
    "        ψmps = mpos.apply(ψmps)\n",
    "        if 'norm' in debug:\n",
    "            print(f'error={ψmps.error()}, |ψ|^2={ψmps.norm2()}')\n",
    "    totalerr = ψmps.error()\n",
    "    if debug:\n",
    "        print(f'Total estimated error {totalerr}')\n",
    "    if (d <= 3) and (len(J) <= 20) and debug:\n",
    "        D = 2**m\n",
    "        if d==1:\n",
    "            E = np.sum(s*(J0@s), 0) + h0@s + E0\n",
    "            p1 = exp(-E)\n",
    "        elif d==2:\n",
    "            Jxx = J0[np.ix_(range(m),range(m))]\n",
    "            Jxy = J0[np.ix_(range(m),range(m,2*m))]\n",
    "            Jyy = J0[np.ix_(range(m,2*m),range(m,2*m))]\n",
    "            Exx = np.sum(s*(Jxx @ s), 0) + h0[0:m]@s\n",
    "            Eyy = np.sum(s*(Jyy @ s), 0) + h0[m:]@s\n",
    "            Exy = 2*(s.T @ (Jxy @ s))\n",
    "            p1 = exp(-Exx.reshape(D,1)-Eyy.reshape(1,D)-Exy-E0).flatten()\n",
    "        elif d==3:\n",
    "            rx = range(m)\n",
    "            ry = range(m,2*m)\n",
    "            rz = range(2*m,3*m)\n",
    "            Jxx = J0[np.ix_(rx,rx)]\n",
    "            Jxy = J0[np.ix_(rx,ry)]\n",
    "            Jxz = J0[np.ix_(rx,rz)]\n",
    "            Jyy = J0[np.ix_(ry,ry)]\n",
    "            Jyz = J0[np.ix_(ry,rz)]\n",
    "            Jzz = J0[np.ix_(rz,rz)]\n",
    "            Exx = (np.sum(s*(Jxx @ s), 0) + h0[rx]@s).reshape(D,1,1)\n",
    "            Eyy = (np.sum(s*(Jyy @ s), 0) + h0[ry]@s).reshape(1,D,1)\n",
    "            Ezz = (np.sum(s*(Jzz @ s), 0) + h0[rz]@s).reshape(1,1,D)\n",
    "            Exy = 2*(s.T @ (Jxy @ s)).reshape(D,D,1)\n",
    "            Exz = 2*(s.T @ (Jxz @ s)).reshape(D,1,D)\n",
    "            Eyz = 2*(s.T @ (Jyz @ s)).reshape(1,D,D)\n",
    "            p1 = exp(-Exx-Eyy-Ezz-Exy-Exz-Eyz-E0).flatten()\n",
    "        p1 /= np.sum(p1)\n",
    "        p2 = ψmps.tovector()**2\n",
    "        p2 /= np.sum(p2)\n",
    "        if reorder:\n",
    "            p2 = p2.reshape([2]*(d*m))\n",
    "            p2 = np.moveaxis(p2, list(range(0,d*m)), ndx).flatten()\n",
    "        realerr1 = np.sum(np.abs(p1-p2))\n",
    "        realerr2 = np.linalg.norm(np.sqrt(p1)-np.sqrt(p2))\n",
    "        print(f'Probability error {realerr1}, norm error {realerr2}')\n",
    "        totalerr = realerr2\n",
    "    if d<=2 and 'plot' in debug:\n",
    "        if d==2:\n",
    "            p1 = np.sum(p1.reshape(2**m,2**m),1)\n",
    "            p2 = np.sum(p2.reshape(2**m,2**m),1)\n",
    "        fig = plot_setup(aspect_ratio=0.5/1.62,wide=True)\n",
    "        ax = fig.add_subplot(1,2,1)\n",
    "        ax.plot(p1, '-o', label='numerically exact')\n",
    "        ax.plot(p2, '-', label='mps (tol=1e-16)')\n",
    "        ax.set_xlabel('$x$')\n",
    "        ax.set_ylabel('$p(x)$')\n",
    "        ax.set_yscale('log')\n",
    "        ax = fig.add_subplot(1,2,2)\n",
    "        S = all_entropies(ψmps)\n",
    "        ax.plot(S)\n",
    "        ax.set_xlabel('$k$')\n",
    "        ax.set_ylabel('$S(\\\\rho^{(m,k)})$')\n",
    "        plt.tight_layout()\n",
    "    if isinstance(ψmps, CanonicalMPS):\n",
    "        ψmps._error = totalerr**2\n",
    "    return ψmps"
   ]
  },
  {
   "cell_type": "markdown",
   "metadata": {},
   "source": [
    "### c) One-dimensional analysis"
   ]
  },
  {
   "cell_type": "markdown",
   "metadata": {},
   "source": [
    "This example shows how to concatenate the MPO's to build a 1D Gaussian state. It also shows the entropy of entanglement with respect to all bipartitions."
   ]
  },
  {
   "cell_type": "code",
   "execution_count": null,
   "metadata": {},
   "outputs": [],
   "source": [
    "if True:\n",
    "    aux_ψ = GaussianMPS(9, 0.5, a=-7, b=7, GR=True, simplify=True, normalize=True, tolerance=1e-14,\n",
    "                        debug='norm-plot')"
   ]
  },
  {
   "cell_type": "markdown",
   "metadata": {},
   "source": [
    "Using this, we can build various states, with different widths."
   ]
  },
  {
   "cell_type": "code",
   "execution_count": null,
   "metadata": {},
   "outputs": [],
   "source": [
    "def test(M=10, tolerance=1e-16):\n",
    "    σs = np.linspace(0.1,5.0,30)\n",
    "    data = np.array([\n",
    "         (max(all_entropies(ψ)), np.sqrt(ψ.error()), ψ.norm2())\n",
    "         for σ in σs\n",
    "         for ψ in [GaussianMPS(M, σ, a=-7, b=7, GR=True, simplify=True, normalize=True, debug='norm')]\n",
    "    ])\n",
    "    fig = plot_setup(aspect_ratio=0.6/1.62,wide=True)\n",
    "    ax = fig.add_subplot(1,2,1)\n",
    "    ax.plot(σs, data[:,0])\n",
    "    ax.set_xlabel('$\\\\sigma$')\n",
    "    ax.set_ylabel('$\\\\mathrm{max}(S)$')\n",
    "    ax = fig.add_subplot(1,2,2)\n",
    "    ax.plot(σs, data[:,1], label=\"$\\\\varepsilon$\")\n",
    "    ax.plot(σs, data[:,2], label=\"$\\\\Vert{\\\\psi}\\\\Vert$\")\n",
    "    ax.set_yscale('log')\n",
    "    ax.set_xlabel('$\\\\sigma$')\n",
    "    ax.legend()"
   ]
  },
  {
   "cell_type": "markdown",
   "metadata": {},
   "source": [
    "We reproduce the same results as for exact states in 1D: entropy is at most 1 ebit. It goes down when the width exceeds the discretization interval."
   ]
  },
  {
   "cell_type": "code",
   "execution_count": null,
   "metadata": {},
   "outputs": [],
   "source": [
    "test(M=10, tolerance=1e-16)"
   ]
  },
  {
   "cell_type": "markdown",
   "metadata": {},
   "source": [
    "### d) Two-dimensional analysis"
   ]
  },
  {
   "cell_type": "markdown",
   "metadata": {},
   "source": [
    "Construct the best MPS approximation to normal and squeezed 2D Gaussian states, using the iterated MPO method. Once built, estimate the entropies of all left-right bipartitions."
   ]
  },
  {
   "cell_type": "markdown",
   "metadata": {},
   "source": [
    "The following code is rather numerically intensive. It is written to be launched as MPI jobs in our cluster, using, for instance\n",
    "```\n",
    "mpirun -n 5 python -u job-2d-m5.py\n",
    "```\n",
    "It can run sequentially if you modify `make_entropies2d()` to avoid using the MPI `Manager()` class."
   ]
  },
  {
   "cell_type": "code",
   "execution_count": null,
   "metadata": {},
   "outputs": [],
   "source": [
    "# file: mpi_mps_entropies2d.py\n",
    "\n",
    "from core_mps import *\n",
    "import os, sys, os.path\n",
    "from mpijobs import Manager\n",
    "\n",
    "def entropies2d(m, σ, θ, reorder=False):\n",
    "    ψ = GaussianMPS(m, cmatrix2d([1.0, σ], θ), a=[-7,-7], b=[7,7],\n",
    "                    simplify=True, normalize=True, reorder=reorder, debug='norm')\n",
    "    χ = [A.shape for A in ψ]\n",
    "    return (σ, all_entropies(ψ), ψ.norm2(), np.sqrt(ψ.error()), χ, m, θ, reorder)\n",
    "    \n",
    "def make_entropies2d(M=10, filename='data-mps/entropies2d-m10-mps.pkl'):\n",
    "    mgr = Manager(debug=True)\n",
    "    if mgr.isroot and os.path.exists(filename):\n",
    "        os.remove(filename)\n",
    "    σs = np.linspace(0.1,1.,41)\n",
    "    mgr.run([(entropies2d, M, σ, π/4.) for σ in σs], filename)\n",
    "    mgr.run([(entropies2d, M, σ, 0., True) for σ in σs], filename)\n",
    "    mgr.run([(entropies2d, M, σ, 0.) for σ in σs], filename)"
   ]
  },
  {
   "cell_type": "code",
   "execution_count": null,
   "metadata": {},
   "outputs": [],
   "source": [
    "# file: job-2d-m5.py\n",
    "from mpi_mps_entropies2d import *\n",
    "make_entropies2d(M=5, filename='data-mps/entropies2d-m5-mps.pkl')"
   ]
  },
  {
   "cell_type": "code",
   "execution_count": null,
   "metadata": {},
   "outputs": [],
   "source": [
    "# file: job-2d-m7.py\n",
    "from mpi_mps_entropies2d import *\n",
    "make_entropies2d(M=7, filename='data-mps/entropies2d-m7-mps.pkl')"
   ]
  },
  {
   "cell_type": "code",
   "execution_count": null,
   "metadata": {},
   "outputs": [],
   "source": [
    "# file: job-2d-m9.py\n",
    "from mpi_mps_entropies2d import *\n",
    "make_entropies2d(M=9, filename='data-mps/entropies2d-m9-mps.pkl')"
   ]
  },
  {
   "cell_type": "code",
   "execution_count": null,
   "metadata": {},
   "outputs": [],
   "source": [
    "# file: job-2d-m11.py\n",
    "from mpi_mps_entropies2d import *\n",
    "make_entropies2d(M=11, filename='data-mps/entropies2d-m11-mps.pkl')"
   ]
  },
  {
   "cell_type": "code",
   "execution_count": null,
   "metadata": {},
   "outputs": [],
   "source": [
    "# file: job-2d-m14.py\n",
    "from mpi_mps_entropies2d import *\n",
    "make_entropies2d(M=14, filename='data-mps/entropies2d-m14-mps.pkl')"
   ]
  },
  {
   "cell_type": "code",
   "execution_count": null,
   "metadata": {},
   "outputs": [],
   "source": [
    "# file: job-2d-m16.py\n",
    "from mpi_mps_entropies2d import *\n",
    "make_entropies2d(M=16, filename='data-mps/entropies2d-m16-mps.pkl')"
   ]
  },
  {
   "cell_type": "code",
   "execution_count": null,
   "metadata": {},
   "outputs": [],
   "source": [
    "# file: job-2d-m18.py\n",
    "from mpi_mps_entropies2d import *\n",
    "make_entropies2d(M=18, filename='data-mps/entropies2d-m18-mps.pkl')"
   ]
  },
  {
   "cell_type": "markdown",
   "metadata": {},
   "source": [
    "### e) 3D systems"
   ]
  },
  {
   "cell_type": "markdown",
   "metadata": {},
   "source": [
    "Construct the best MPS approximation to normal and squeezed 3D Gaussian states, using the iterated MPO method. Once built, estimate the entropies of all left-right bipartitions."
   ]
  },
  {
   "cell_type": "markdown",
   "metadata": {},
   "source": [
    "The following code is rather numerically intensive. It is written to be launched as MPI jobs in our cluster, using, for instance\n",
    "```\n",
    "mpirun -n 5 python -u job-3d-m5.py\n",
    "```\n",
    "It can run sequentially if you modify `make_entropies3d()` to avoid using the MPI `Manager()` class."
   ]
  },
  {
   "cell_type": "code",
   "execution_count": null,
   "metadata": {},
   "outputs": [],
   "source": [
    "# file: mpi_mps_entropies3d.py\n",
    "\n",
    "from core_mps import *\n",
    "import os, sys, os.path\n",
    "from mpijobs import Manager\n",
    "\n",
    "def entropies(m, σ, θ, reorder=False):\n",
    "    ψ = GaussianMPS(m, cmatrix3d([σ, 1.0, σ], θ, θ), a=[-7,-7,-7], b=[7,7,7],\n",
    "                    simplify=True, normalize=True, reorder=reorder, debug='norm')\n",
    "    χ = [A.shape for A in ψ]\n",
    "    return (σ, all_entropies(ψ), ψ.norm2(), np.sqrt(ψ.error()), χ, m, θ)\n",
    "    \n",
    "def make_entropies3d(M=10, filename='data/entropies2d-m10-mps.pkl'):\n",
    "    mgr = Manager(debug=True)\n",
    "    if mgr.isroot and os.path.exists(filename):\n",
    "        os.remove(filename)\n",
    "    σs = np.linspace(0.1,1.,41)\n",
    "    mgr.run([(entropies, M, σ, π/4.) for σ in σs], filename)\n",
    "    mgr.run([(entropies, M, σ, 0., True) for σ in σs], filename)\n",
    "    mgr.run([(entropies, M, σ, 0.) for σ in σs], filename)"
   ]
  },
  {
   "cell_type": "code",
   "execution_count": null,
   "metadata": {},
   "outputs": [],
   "source": [
    "# file: job-3d-m5.py\n",
    "from mpi_mps_entropies3d import *\n",
    "make_entropies3d(M=5, filename='data-mps/entropies3d-m5-mps.pkl')"
   ]
  },
  {
   "cell_type": "code",
   "execution_count": null,
   "metadata": {},
   "outputs": [],
   "source": [
    "# file: job-3d-m7.py\n",
    "from mpi_mps_entropies3d import *\n",
    "make_entropies3d(M=7, filename='data-mps/entropies3d-m7-mps.pkl')"
   ]
  },
  {
   "cell_type": "code",
   "execution_count": null,
   "metadata": {},
   "outputs": [],
   "source": [
    "# file: job-3d-m9.py\n",
    "from mpi_mps_entropies3d import *\n",
    "make_entropies3d(M=9, filename='data-mps/entropies3d-m9-mps.pkl')"
   ]
  },
  {
   "cell_type": "code",
   "execution_count": null,
   "metadata": {},
   "outputs": [],
   "source": [
    "# file: job-3d-m11.py\n",
    "from mpi_mps_entropies3d import *\n",
    "make_entropies3d(M=11, filename='data-mps/entropies3d-m11-mps.pkl')"
   ]
  },
  {
   "cell_type": "code",
   "execution_count": null,
   "metadata": {},
   "outputs": [],
   "source": [
    "# file: job-3d-m12.py\n",
    "from mpi_mps_entropies3d import *\n",
    "make_entropies3d(M=11, filename='data-mps/entropies3d-m12-mps.pkl')"
   ]
  },
  {
   "cell_type": "code",
   "execution_count": null,
   "metadata": {},
   "outputs": [],
   "source": [
    "# file: job-3d-m13.py\n",
    "from mpi_mps_entropies3d import *\n",
    "make_entropies3d(M=11, filename='data-mps/entropies3d-m13-mps.pkl')"
   ]
  }
 ],
 "metadata": {
  "kernelspec": {
   "display_name": "Python 3",
   "language": "python",
   "name": "python3"
  },
  "language_info": {
   "codemirror_mode": {
    "name": "ipython",
    "version": 3
   },
   "file_extension": ".py",
   "mimetype": "text/x-python",
   "name": "python",
   "nbconvert_exporter": "python",
   "pygments_lexer": "ipython3",
   "version": "3.7.7"
  }
 },
 "nbformat": 4,
 "nbformat_minor": 4
}
