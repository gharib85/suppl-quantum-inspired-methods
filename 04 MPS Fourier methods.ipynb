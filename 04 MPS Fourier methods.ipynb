{
 "cells": [
  {
   "cell_type": "code",
   "execution_count": null,
   "metadata": {},
   "outputs": [],
   "source": [
    "from core import *\n",
    "from core_mps import *\n",
    "from quantum_plots import *\n",
    "from mps.state import MPS, CanonicalMPS\n",
    "from mps.mpo import MPO, MPOList\n",
    "from mps.qft import qft_mpo, qft_flip, qft, iqft"
   ]
  },
  {
   "cell_type": "markdown",
   "metadata": {},
   "source": [
    "## Quantum Fourier Transform"
   ]
  },
  {
   "cell_type": "markdown",
   "metadata": {},
   "source": [
    "We want to analyze the performance of the QFT on the states that we have been studying."
   ]
  },
  {
   "cell_type": "code",
   "execution_count": null,
   "metadata": {},
   "outputs": [],
   "source": [
    "def twoscomplement(L, **kwdargs):\n",
    "    A0 = np.zeros((1,2,2,2))\n",
    "    A0[0,0,0,0] = 1.\n",
    "    A0[0,1,1,1] = 1.\n",
    "    A = np.zeros((2,2,2,2))\n",
    "    A[0,0,0,0] = 1.\n",
    "    A[0,1,1,0] = 1.\n",
    "    A[1,1,0,1] = 1.\n",
    "    A[1,0,1,1] = 1.\n",
    "    Aend = A[:,:,:,[0]] + A[:,:,:,[1]]\n",
    "    return MPO([A0] + [A]*(L-2) + [Aend], **kwdargs)"
   ]
  },
  {
   "cell_type": "code",
   "execution_count": null,
   "metadata": {},
   "outputs": [],
   "source": [
    "def study_qft_entropies(σ=1.0, M=15):\n",
    "    \n",
    "    ψ, x = Gaussian_GR(M, σ=σ, μ=0, a=-7, b=7)\n",
    "    ψmps = MPS.fromvector(ψ, [2]*M)\n",
    "    F = qft_mpo(M, simplify=True, normalize=True)\n",
    "    S = [all_entropies(ψmps)]\n",
    "    for mpo in F.mpos:\n",
    "        ψmps = mpo.apply(ψmps)\n",
    "        S.append(all_entropies(ψmps))\n",
    "    Fψmps = qft_flip(ψmps)\n",
    "    F2ψmps = twoscomplement(M, simplify=True, normalize=True).apply(Fψmps)\n",
    "    S.append(all_entropies(F2ψmps))\n",
    "    \n",
    "    fig = plot_setup(aspect_ratio=1/1.62, wide=True)\n",
    "    ax = fig.add_subplot(2,2,4)\n",
    "    Smax = [max(s) for s in S]\n",
    "    ax.plot(0, Smax[0], 'o', mfc='w', label='$\\\\psi$')\n",
    "    ax.plot(np.arange(1,M+1), Smax[1:-1], '-', mfc='w', label='$\\\\mathcal{F}_j\\\\cdots\\\\mathcal{F}_1\\\\psi$')\n",
    "    ax.plot(M+2, Smax[-1], 's', mfc='w', label='$U_{2c}\\\\mathcal{F}\\\\psi$')\n",
    "    ax.set_ylabel('$\\\\max\\\\,S[\\\\rho^{(k,m-k)}]$')\n",
    "    ax.set_xlabel('$j$ (step)')\n",
    "    ax.set_ylim([-0.1,1.1])\n",
    "    ax.legend(frameon=True,loc='center')\n",
    "    ax.text(16,0.95,'d)', fontweight='bold')\n",
    "    \n",
    "    ax = fig.add_subplot(2,2,1)\n",
    "    ax.plot(x, np.abs(ψ)**2)\n",
    "    ax.set_xlabel('$x_s$')\n",
    "    ax.set_ylabel('$p(x_s)$')\n",
    "    ax.text(-5.5,0.000155,'a)',fontweight='bold')\n",
    "    \n",
    "    ax = fig.add_subplot(2,2,3)\n",
    "    ax.plot(np.arange(2**M)/2**M, np.abs(Fψmps.tovector())**2, color=color2)\n",
    "    ax.set_xlabel('$s/2^m$')\n",
    "    ax.set_ylabel('$[\\\\mathcal{F}p](s)$')\n",
    "    ax.text(0.1,0.33,'b)',fontweight='bold')\n",
    "    \n",
    "    ax = fig.add_subplot(2,2,2)\n",
    "    ax.plot(S[0], '-o', mfc='w', label='$\\\\psi$')\n",
    "    ax.plot(S[-2], '-', label='$\\\\mathcal{F}\\\\psi$')\n",
    "    ax.plot(S[-1], '-s', mfc='w', label='$U_{2c}\\\\mathcal{F}\\\\psi$')\n",
    "    ax.set_ylim([-0.1,1.1])\n",
    "    ax.set_xlabel('$k$')\n",
    "    ax.set_ylabel('$S[\\\\rho^{(k,m-k)}]$')\n",
    "    ax.text(13.5,0.95,'c)', fontweight='bold')\n",
    "    ax.legend(loc='center')\n",
    "    \n",
    "    plt.tight_layout()\n",
    "    plt.savefig('../fig-QFT-entropy.pdf')\n",
    "\n",
    "study_qft_entropies()"
   ]
  },
  {
   "cell_type": "markdown",
   "metadata": {},
   "source": [
    "## Quantum Fourier interpolation"
   ]
  },
  {
   "cell_type": "code",
   "execution_count": null,
   "metadata": {},
   "outputs": [],
   "source": [
    "def qft_interpolation(σ=1.0, M0=5, Mf=10, a=None, b=None):\n",
    "    \n",
    "    if b is None:\n",
    "        b=-7*σ\n",
    "    if a is None:\n",
    "        a=-b\n",
    "    x0 = np.linspace(a, b, 2**M0+1)[:-1]\n",
    "    xf = np.linspace(a, b, 2**Mf+1)[:-1]\n",
    "    ψ0 = np.exp(-x0**2/(2*σ**2)); ψ0 /= np.linalg.norm(ψ0)\n",
    "    ψf = np.exp(-xf**2/(2*σ**2)); ψf /= np.linalg.norm(ψf)\n",
    "    \n",
    "    ψ0mps = MPS.fromvector(ψ0, [2]*M0)\n",
    "    U2c = twoscomplement(M0, simplify=True, normalize=True)\n",
    "    Fψ0mps = U2c.apply(qft_flip(qft(ψ0mps)))\n",
    "    #\n",
    "    # Extend the state with zero qubits\n",
    "    χ = Fψ0mps[0].shape[-1]\n",
    "    A = np.zeros((χ,2,χ))\n",
    "    for i in range(χ):\n",
    "        A[i,0,i] = 1.0\n",
    "    tensors = [Fψ0mps[0]]+[A]*(Mf-M0)+Fψ0mps[1:]\n",
    "    Fψfmps = MPS(tensors)\n",
    "    #\n",
    "    # Undo Fourier transform\n",
    "    U2c = twoscomplement(Mf, simplify=True, normalize=True)\n",
    "    ψfmps = qft_flip(iqft(U2c.apply(Fψfmps)))\n",
    "    ψfint = ψfmps.tovector()\n",
    "    ψfint /= np.linalg.norm(ψfint)\n",
    "    xint = xf;\n",
    "    \n",
    "    fig = plot_setup(aspect_ratio=1/1.62, width_ratio=0.8, wide=True)\n",
    "    ax = fig.add_subplot(2,2,1)\n",
    "    ax.plot(x0, np.abs(ψ0)**2/np.sum(np.abs(ψ0)**2), '-o')\n",
    "    ax.set_xlabel('$x_s$')\n",
    "    ax.set_ylabel('$p^{(5)}(x_s)$')\n",
    "    ax.text(-6,0.2,'a)',fontweight='bold')\n",
    "    \n",
    "    ax = fig.add_subplot(2,2,2)\n",
    "    ax.plot(xint, np.abs(ψfint**2))\n",
    "    ax.plot(xf, np.abs(ψf**2))\n",
    "    ax.set_xlabel('$x_s$')\n",
    "    ax.set_ylabel('$p^{(10)}(x_s)$')\n",
    "    ax.text(-6,0.006,'b)',fontweight='bold')\n",
    "    \n",
    "    ax = fig.add_subplot(2,2,3)\n",
    "    ξ0 = np.abs(Fψ0mps.tovector())**2\n",
    "    k0 = np.arange(-2**(M0-1),2**(M0-1))*2*np.pi/(14*σ)\n",
    "    ξ0 = np.concatenate((ξ0[2**M0-1:2**(M0-1)-1:-1],ξ0[0:2**(M0-1)]))\n",
    "    ax.plot(k0, ξ0, color=color1)\n",
    "    ax.set_xlabel('$k_{\\\\bar{s}}$')\n",
    "    ax.set_ylabel('$[\\\\mathcal{F}p](s)$')\n",
    "    ax.text(-6,0.2,'c)',fontweight='bold')\n",
    "    \n",
    "    ax = fig.add_subplot(2,2,4)\n",
    "    ξf = np.abs(Fψfmps.tovector())**2\n",
    "    kf = np.arange(-2**(Mf-1),2**(Mf-1))*2*np.pi/(14*σ)\n",
    "    ξf = np.concatenate((ξf[2**Mf-1:2**(Mf-1)-1:-1],ξf[0:2**(Mf-1)]))\n",
    "    ax.plot(kf, ξf, color=color2)\n",
    "    ax.set_xlabel('$k_{\\\\bar{s}}$')\n",
    "    ax.set_ylabel('$[\\\\mathcal{F}p](s)$')\n",
    "    ax.text(-195,0.2,'d)',fontweight='bold')\n",
    "    \n",
    "    plt.tight_layout()\n",
    "    plt.savefig('../fig-QFT-interpolation.pdf')\n",
    "    plt.savefig('../fig-QFT-interpolation.svg')\n",
    "\n",
    "qft_interpolation()"
   ]
  },
  {
   "cell_type": "markdown",
   "metadata": {},
   "source": [
    "## Fokker-Planck spectral method"
   ]
  },
  {
   "cell_type": "markdown",
   "metadata": {},
   "source": [
    "We can solve the Fokker-Planck equation in Fourier space. We need to realize that the differential operators are much easier in momentum space\n",
    "$$\\frac{\\partial}{\\partial x} e^{i k x} \\sim k e^{i k x}.$$\n",
    "Thanks to this, any differential equation with a generator $G(\\partial_x)$ which is a function of the derivatives\n",
    "$$\\partial_t|\\psi\\rangle = G(\\partial_x)|\\psi\\rangle$$\n",
    "can be solved in Fourier space as\n",
    "$$|\\tilde\\psi(t)\\rangle = e^{G(i k)} |\\tilde\\psi(0)\\rangle,$$\n",
    "where $|\\tilde\\psi\\rangle = \\mathcal{F}|\\psi\\rangle$ is the Fourier transform of the state."
   ]
  },
  {
   "cell_type": "markdown",
   "metadata": {},
   "source": [
    "Since we are interested in the \"laboratory\" representation, not in the transformed state, we can write\n",
    "$$|\\psi(t)\\rangle = \\mathcal{F^{-1}} e^{G(ik)} \\mathcal{F} |\\psi(0)\\rangle.$$"
   ]
  },
  {
   "cell_type": "markdown",
   "metadata": {},
   "source": [
    "In practice things are a bit more complicated. We are working with finite discretized intervals $x_s\\in[a,b],$ and the derivative $\\partial_x$ does not have a trivial representation: we must approximate it."
   ]
  },
  {
   "cell_type": "markdown",
   "metadata": {},
   "source": [
    "First we have to remember that the discretization reads\n",
    "$$x = a + s\\,\\delta{x},\\; s=0,1,\\ldots,2^{m}-1,$$\n",
    "with discretization step\n",
    "$$\\delta{x} = \\frac{b-a}{2^m} = \\frac{L}{N}.$$\n",
    "Associated to this discrete coordinate, we have the quasimomentum variable\n",
    "$$q = \\frac{2\\pi}{L} s \\in \\frac{2\\pi}{L}\\times\\{0,1,2\\ldots, N-1\\},$$\n",
    "where once more $s$ denotes the states of the quantum register."
   ]
  },
  {
   "cell_type": "markdown",
   "metadata": {},
   "source": [
    "Note that this quasimomentum is not quite our 'k' coordinate. The quasimomentum $2\\pi(N-1)/L$ effectively represents the negative momentum $k=-2\\pi/L.$ More generally, we can associate to the binary numbers $s$ a real momentum\n",
    "$$k = \\frac{2\\pi}{L} \\times \\bar{s}$$\n",
    "where $\\bar{s}$ is a positive or negative number that uses the [two's complement representation](https://en.wikipedia.org/wiki/Two%27s_complement) with $m$ bits of precision\n",
    "$$\\bar{s} = \\left\\{\n",
    "\\begin{array}{l}\n",
    "\\sum_{n=2}^m 2^{m-n}s_n, & s_1 = 0\\\\\n",
    "-\\sum_{n=2}^m 2^{m-n}(1-s_n) - 1, & s_1=1.\n",
    "\\end{array}\\right.$$"
   ]
  },
  {
   "cell_type": "markdown",
   "metadata": {},
   "source": [
    "We can write\n",
    "$$\\bar{s}=-s_1 + \\sum_{n=2}^{m}2^{m-n} \\left[ (1-s_1) s_n - s_1 (1-s_n)\\right]\n",
    "=-s_1 + \\sum_{n=2}^{m}2^{m-n} \\left[ s_n-s_1\\right] $$"
   ]
  },
  {
   "cell_type": "code",
   "execution_count": null,
   "metadata": {},
   "outputs": [],
   "source": [
    "def c2(m, debug=True):\n",
    "    alls = []\n",
    "    for z in range(0,2**m):\n",
    "        b = [(z >> i) & 1 for i in reversed(range(0,m))]\n",
    "        s = sum(2**(m-i)*(b[i-1]-b[0]) for i in range(2,m+1)) - b[0]\n",
    "        if debug:\n",
    "            print(f'b={b}, s={s}')\n",
    "        alls.append(s)\n",
    "    return np.array(alls)\n",
    "c2(4)"
   ]
  },
  {
   "cell_type": "markdown",
   "metadata": {},
   "source": [
    "Using this, we can implement a unitary MPO that performs the exponentiation $\\exp(c k)$ with any coefficient $c.$ This is an almost local operator\n",
    "$$\\exp(c k) = \\exp(-c s_1) \\prod_{n=2}^{m} \\exp\\left[c (1-s_1) 2^{m-n} s_n - c s_1 2^{m-n} (1-s_n)\\right].$$"
   ]
  },
  {
   "cell_type": "code",
   "execution_count": null,
   "metadata": {},
   "outputs": [],
   "source": [
    "def mpo_expk(c, m, L, **kwdargs):\n",
    "    \"\"\"Implement exp(ck) for a register with 'm' qubits.\n",
    "    \n",
    "    Parameters\n",
    "    ----------\n",
    "    c        -- coefficient in the exponent\n",
    "    m        -- size of quantum register\n",
    "    **kwdargs-- extra arguments for MPO\n",
    "    \"\"\"\n",
    "    c *= 2*np.pi/L\n",
    "    A0 = np.zeros((1,2,2,2), dtype=type(c))\n",
    "    A0[0,1,1,1] = np.exp(-c)\n",
    "    A0[0,0,0,0] = 1.0\n",
    "    \n",
    "    out = [A0]\n",
    "    for n in range(2,m+1):\n",
    "        cn = c * 2**(m-n)\n",
    "        A = np.zeros((2,2,2,2), dtype=type(c))\n",
    "        A[0,1,1,0] = np.exp(cn)\n",
    "        A[0,0,0,0] = 1.\n",
    "        A[1,1,1,1] = 1.\n",
    "        A[1,0,0,1] = np.exp(-cn)\n",
    "        if n==m:\n",
    "            A = A[:,:,:,[0]]+A[:,:,:,[1]]\n",
    "        out.append(A)\n",
    "    return MPO(out, **kwdargs)"
   ]
  },
  {
   "cell_type": "markdown",
   "metadata": {},
   "source": [
    "We can test this with a simple Gaussian function and the displacement operator. We have the equation\n",
    "$$\\partial_t p(x,t) = -\\mu \\partial_x p(x,t).$$\n",
    "This has a solution of the form\n",
    "$$p(x,t) = p(x-\\mu t,0),$$\n",
    "and it can be solved in our representation using\n",
    "$$p(x,t) = \\mathcal{F}^{-1} e^{-i \\mu k} \\mathcal{F} p(x,t).$$"
   ]
  },
  {
   "cell_type": "code",
   "execution_count": null,
   "metadata": {},
   "outputs": [],
   "source": [
    "from mps.qft import qft, iqft, qft_flip\n",
    "import matplotlib.pyplot as plt\n",
    "\n",
    "def test_drift(T=1.0, μ=1, m=8, σ=1.0, a=None, b=None):\n",
    "    if a is None:\n",
    "        a = -7*σ\n",
    "    if b is None:\n",
    "        b = -a\n",
    "    L = abs(b - a)\n",
    "    x = np.linspace(a, b, 2**m)\n",
    "\n",
    "    ψmps = GaussianMPS(m, σ, a=a, b=b, GR=False, simplify=True, normalize=True)\n",
    "    U = mpo_expk(-1j * T * μ, m, L, simplify=True)\n",
    "    ξmps = qft_flip(qft(ψmps, simplify=True))\n",
    "    ξmps = U.apply(ξmps)\n",
    "\n",
    "    plt.plot(np.abs(ξmps.tovector()), label='$\\\\mathcal{F}ψ$')\n",
    "    plt.plot(np.abs(ψmps.tovector()), label='$ψ$')\n",
    "    ξmps = qft_flip(iqft(ξmps, simplify=True))\n",
    "    plt.plot(np.abs(ξmps.tovector()), label='$\\\\mathcal{F}e^{-\\\\mu\\\\hat{k}}\\\\mathcal{F}ψ$')\n",
    "    \n",
    "    xm0 = np.sum(x * np.abs(ψmps.tovector()))/np.sum(np.abs(ψmps.tovector()))\n",
    "    xmT = np.sum(x * np.abs(ξmps.tovector()))/np.sum(np.abs(ξmps.tovector()))\n",
    "    print(f'<x(0)> = {xm0:5f}, <x(T)> = {xmT:5f}')\n",
    "    \n",
    "    plt.plot()\n",
    "\n",
    "test_drift(m=8)"
   ]
  },
  {
   "cell_type": "markdown",
   "metadata": {},
   "source": [
    "We can also implement $\\exp(D k^2).$ For that, let us first study $k^2.$ Recall\n",
    "$$k =\\frac{2\\pi}{L}\\bar{s},$$\n",
    "and\n",
    "$$\\bar{s}=-s_1\\left[1 +  \\sum_{n=2}^{m}2^{m-n} (1-s_n)\\right]\n",
    "+ (1-s_1) \\sum_{n=2}^{m}2^{m-n} s_n$$"
   ]
  },
  {
   "cell_type": "markdown",
   "metadata": {},
   "source": [
    "We realize that $s_1$ and $(1-s_1)$ are projectors and hence $s_1(1-s_1)=0.$ We can therefore write\n",
    "$$\\bar{s}^2=s_1\\left[1 +  \\sum_{n=2}^{m}2^{m-n} (1-s_n)\\right]^2\n",
    "+ (1-s_1) \\left[\\sum_{n=2}^{m}2^{m-n} s_n\\right]^2.$$\n",
    "This can be written in QUBO form\n",
    "$$\\bar{s}^2=\\sum_i Q_{ij}s_i s_j,$$\n",
    "but the coefficients in $Q$ are negative and positive, and pretty large, which causes problems."
   ]
  },
  {
   "cell_type": "markdown",
   "metadata": {},
   "source": [
    "We realize that there is a unitary operation that implements two's complement:\n",
    "$$U|s_1,s_n\\rangle = |s_1,s_1\\oplus s_n\\rangle =|s_1,s_n'\\rangle,$$\n",
    "with which the expression for $\\bar{s}^2$ radically changes:\n",
    "$$\\bar{s}=-s_1\\left[1 + \\sum_{n=2}^{m}2^{m-n} s_n \\right] + (1-s_1) \\sum_{n=2}^{m}2^{m-n} s_n$$\n",
    "$$\\bar{s}^2 = s_1 \\left[1 + \\sum_{n=2}^m 2^{m-n}s_n'\\right]^2 + (1-s_1)\\left[\\sum_{n=2}^m 2^{m-n}s_n'\\right]^2.$$\n",
    "This new formulation now has $Q_{ij}'\\geq 0.$"
   ]
  },
  {
   "cell_type": "markdown",
   "metadata": {},
   "source": [
    "It is convenient to rewrite\n",
    "$$\\bar{s}^2 = s_1 + 2s_1 S + S^2$$\n",
    "with\n",
    "$$S = \\sum_{n=2}^{m} 2^{m-n}s_n'.$$\n",
    "Then we have\n",
    "$$Q_{1,1} = 1,\\; Q_{1,n\\geq 2} = 2^{m-n} = Q_{n\\geq 2,1},\\; Q_{n\\geq 2,n'\\geq 2} = 2^{2m-n-n'}.$$"
   ]
  },
  {
   "cell_type": "code",
   "execution_count": null,
   "metadata": {},
   "outputs": [],
   "source": [
    "def QUBOs2(m):\n",
    "    if False:\n",
    "        powers = 2**(m-np.arange(2,m+1))\n",
    "        Q = np.block([[np.ones((1,1)), powers.reshape(1,m-1)],\n",
    "                      [powers.reshape(m-1,1), np.outer(powers,powers)]])\n",
    "    else:\n",
    "        h = [1] + [2**(m-n) for n in range(2,m+1)]\n",
    "        Q = np.outer(h, h)\n",
    "    return Q"
   ]
  },
  {
   "cell_type": "markdown",
   "metadata": {},
   "source": [
    "We can implement the exponential of the QUBO operator\n",
    "$$e^{\\beta H} = U_{2comp} e^{\\beta \\sum_{ij} h_i h_j s_i s_j} U_{2comp},$$\n",
    "where $U_{2comp}$ is the two's complement operator."
   ]
  },
  {
   "cell_type": "code",
   "execution_count": null,
   "metadata": {},
   "outputs": [],
   "source": [
    "def QUBOMPO(Q, β=1, **kwdargs):\n",
    "    L = len(Q)\n",
    "    Q = β*Q\n",
    "\n",
    "    def tensor(u,v):\n",
    "        A = np.zeros((2,2,2,2), dtype=np.float64)\n",
    "        if v == u:\n",
    "            A[1,1,1,1] = np.exp(Q[u,u])\n",
    "            A[0,0,0,0] = 1.\n",
    "        else:\n",
    "            A[1,1,1,1] = np.exp(Q[u,v])\n",
    "            A[1,0,0,1] = 1.\n",
    "            A[0,1,1,0] = 1.\n",
    "            A[0,0,0,0] = 1.\n",
    "        if v==L-1:\n",
    "            A = np.einsum('aijb->aij', A).reshape((A.shape[0],2,2,1))\n",
    "        if v==0:\n",
    "            A = np.einsum('aijb->ijb', A).reshape((1,2,2,A.shape[-1]))\n",
    "        return A\n",
    "\n",
    "    U2comp = twoscomplement(L, **kwdargs)\n",
    "    return MPOList([U2comp] +\n",
    "                   [MPO([tensor(u,v) for v in range(L)], **kwdargs)\n",
    "                    for u in range(L)] +\n",
    "                   [U2comp])"
   ]
  },
  {
   "cell_type": "markdown",
   "metadata": {},
   "source": [
    "And use this to implement the diffusion operator $\\exp(Dk^2).$"
   ]
  },
  {
   "cell_type": "code",
   "execution_count": null,
   "metadata": {},
   "outputs": [],
   "source": [
    "from mps.qft import qft, iqft, qft_flip\n",
    "import matplotlib.pyplot as plt\n",
    "\n",
    "def QFTFokkerPlanck(T=1.0, steps=10, D=0.2, μ=0.1, m=10, σ=1.0, a=None, b=None, filename=None):\n",
    "    if b is None:\n",
    "        b = 7*σ\n",
    "    if a is None:\n",
    "        a = -b\n",
    "    L = abs(b - a)\n",
    "    x = np.linspace(a, b, 2**m)\n",
    "    times = np.linspace(0, T, steps)\n",
    "    δt = times[1]\n",
    "\n",
    "    ψmps = GaussianMPS(m, σ, a=a, b=b, GR=False, simplify=True, normalize=True)\n",
    "    Uμ = mpo_expk(-1j * δt * μ, m, L, simplify=True)\n",
    "    UD = QUBOMPO(QUBOs2(m), β=-δt*D*(2*np.pi/L)**2, simplify=True)\n",
    "    \n",
    "    ψ = [ψmps.tovector()]\n",
    "    error = [0.]\n",
    "    for t in times[1:]:\n",
    "        ψmps = qft_flip(qft(ψmps, simplify=True));\n",
    "        ψmps = UD.apply(Uμ.apply(ψmps))\n",
    "        ψmps = qft_flip(iqft(ψmps, simplify=True))\n",
    "        error.append(ψmps.error())\n",
    "        ψ.append(ψmps.tovector())\n",
    "        theψ = np.abs(ψ[-1])\n",
    "        theψ /= np.sum(theψ)\n",
    "        xm = np.sum(x * theψ)\n",
    "        x2m = np.sum(x*x*theψ)\n",
    "        σ2m = x2m - xm**2\n",
    "        print(f't={t:4}, <x>={xm:5}, <σ2>={σ2m:5}, err={error[-1]}')\n",
    "        plt.plot(np.abs(ψ[-1]))\n",
    "    ψ = np.array(ψ)\n",
    "    if filename is not None:\n",
    "        with open(filename,'wb') as f:\n",
    "            pickle.dump((ψ, x, times, error, D, μ, b), f)\n",
    "    return ψ, x, times, error"
   ]
  },
  {
   "cell_type": "code",
   "execution_count": null,
   "metadata": {},
   "outputs": [],
   "source": [
    "if not os.path.exists('data/fokker-planck-2d-b.pkl'):\n",
    "    QFTFokkerPlanck(m=10, σ=1.0, T=30., steps=100, μ=0.5, D=0.1, b=10, filename='data/fokker-planck-2d-b.pkl');"
   ]
  },
  {
   "cell_type": "code",
   "execution_count": null,
   "metadata": {},
   "outputs": [],
   "source": [
    "if not os.path.exists('data/fokker-planck-2d-c.pkl'):\n",
    "    QFTFokkerPlanck(m=14, σ=1.0, T=30., steps=100, μ=0.5, D=0.1, b=10, filename='data/fokker-planck-2d-c.pkl');"
   ]
  }
 ],
 "metadata": {
  "kernelspec": {
   "display_name": "Python 3",
   "language": "python",
   "name": "python3"
  },
  "language_info": {
   "codemirror_mode": {
    "name": "ipython",
    "version": 3
   },
   "file_extension": ".py",
   "mimetype": "text/x-python",
   "name": "python",
   "nbconvert_exporter": "python",
   "pygments_lexer": "ipython3",
   "version": "3.7.7"
  }
 },
 "nbformat": 4,
 "nbformat_minor": 4
}
