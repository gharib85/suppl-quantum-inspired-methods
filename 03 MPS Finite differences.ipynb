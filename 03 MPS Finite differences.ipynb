{
 "cells": [
  {
   "cell_type": "code",
   "execution_count": 1,
   "metadata": {},
   "outputs": [
    {
     "name": "stdout",
     "output_type": "stream",
     "text": [
      "Global props:\n",
      "fontsizes :\n",
      "     tiny :  6\n",
      "     scriptsize :  8\n",
      "     footnotesize :  9\n",
      "     small :  10\n",
      "     normalsize :  11\n",
      "     large :  12\n",
      "     Large :  14\n",
      "     LARGE :  17\n",
      "     huge :  20\n",
      "     Huge :  25\n",
      "colors :\n",
      "     quantumviolet :  #53257F\n",
      "     quantumgray :  #555555\n"
     ]
    }
   ],
   "source": [
    "from core import *\n",
    "from core_mps import *\n",
    "from quantum_plots import *\n",
    "from mps.mpo import MPO, MPOList"
   ]
  },
  {
   "cell_type": "markdown",
   "metadata": {},
   "source": [
    "## Time evolution"
   ]
  },
  {
   "cell_type": "markdown",
   "metadata": {},
   "source": [
    "### a) Ladder operators"
   ]
  },
  {
   "cell_type": "markdown",
   "metadata": {},
   "source": [
    "We want to construct an operator that maps a binary number $s=s_1s_2\\ldots s_m$ to $s+1$ or $s-1$. Let us begin with the operator $S^+$ which will increase the value of the register by one. The table of additions is\n",
    "\n",
    "| a | b | a+b | c |\n",
    "|---|---|-----|---|\n",
    "| 0 | 0 |  0  | 0 |\n",
    "| 0 | 1 |  1  | 0 |\n",
    "| 1 | 0 |  1  | 0 |\n",
    "| 1 | 1 |  0  | 1 |"
   ]
  },
  {
   "cell_type": "markdown",
   "metadata": {},
   "source": [
    "We can implement this with a tensor $A_{cb}^{a',a}$ that is 1 only on the values of that table."
   ]
  },
  {
   "cell_type": "code",
   "execution_count": 2,
   "metadata": {},
   "outputs": [],
   "source": [
    "def mpoSup(n, **kwdargs):\n",
    "    \n",
    "    A = np.zeros((2,2,2,2))\n",
    "    A[0,0,0,0] = 1.\n",
    "    A[0,1,1,0] = 1.\n",
    "    A[1,0,1,1] = 1.\n",
    "    A[0,1,0,1] = 1.\n",
    "    \n",
    "    R = A[:,:,:,[1]]\n",
    "    L = A[[0],:,:,:] # + A[[1],:,:,:]\n",
    "    return MPO([L] + [A] * (n-2) + [R], **kwdargs)"
   ]
  },
  {
   "cell_type": "markdown",
   "metadata": {},
   "source": [
    "Similarly, we would have another tensor for the decrease\n",
    "\n",
    "| a | b | a-b | c |\n",
    "|---|---|-----|---|\n",
    "| 0 | 0 |  0  | 0 |\n",
    "| 0 | 1 |  1  | 1 |\n",
    "| 1 | 0 |  1  | 0 |\n",
    "| 1 | 1 |  0  | 0 |"
   ]
  },
  {
   "cell_type": "code",
   "execution_count": 3,
   "metadata": {},
   "outputs": [],
   "source": [
    "def mpoSdown(n, **kwdargs):\n",
    "    \n",
    "    A = np.zeros((2,2,2,2))\n",
    "    A[0,0,0,0] = 1.\n",
    "    A[0,1,1,0] = 1.\n",
    "    A[0,0,1,1] = 1.\n",
    "    A[1,1,0,1] = 1.\n",
    "    \n",
    "    R = A[:,:,:,[1]]\n",
    "    L = A[[0],:,:,:] # + A[[1],:,:,:]\n",
    "    return MPO([L] + [A] * (n-2) + [R], **kwdargs)"
   ]
  },
  {
   "cell_type": "markdown",
   "metadata": {},
   "source": [
    "And finally, if we want to make a superposition of both changes\n",
    "$$O = \\epsilon_0 + \\epsilon_1 S^+ + \\epsilon_2 S^-,$$\n",
    "we can do it easily with bond dimension 3."
   ]
  },
  {
   "cell_type": "code",
   "execution_count": 4,
   "metadata": {},
   "outputs": [],
   "source": [
    "def mpo_combined(n,a,b,c, **kwdargs):\n",
    "    \n",
    "    A = np.zeros((3,2,2,3))\n",
    "    # Internal bond dimension 0 is nothing, 1 is add 1, 2 is subtract 1\n",
    "    \n",
    "    A[0,0,0,0] = 1.\n",
    "    A[0,1,1,0] = 1.\n",
    "    # Increase\n",
    "    A[0,1,0,1] = 1.\n",
    "    A[1,0,1,1] = 1.\n",
    "    # Decrease\n",
    "    A[2,1,0,2] = 1.\n",
    "    A[0,0,1,2] = 1.\n",
    "    \n",
    "    R = a*A[:,:,:,[0]] + b*A[:,:,:,[1]] + c*A[:,:,:,[2]]\n",
    "    L = A[[0],:,:,:] # + A[[1],:,:,:] + A[[2],:,:,:]\n",
    "    return MPO([L] + [A] * (n-2) + [R], **kwdargs)"
   ]
  },
  {
   "cell_type": "markdown",
   "metadata": {},
   "source": [
    "We can see that the operators are the tridiagonal matrices we expect"
   ]
  },
  {
   "cell_type": "code",
   "execution_count": 5,
   "metadata": {},
   "outputs": [
    {
     "data": {
      "text/plain": [
       "array([[0., 0., 0., 0., 0., 0., 0., 0.],\n",
       "       [1., 0., 0., 0., 0., 0., 0., 0.],\n",
       "       [0., 1., 0., 0., 0., 0., 0., 0.],\n",
       "       [0., 0., 1., 0., 0., 0., 0., 0.],\n",
       "       [0., 0., 0., 1., 0., 0., 0., 0.],\n",
       "       [0., 0., 0., 0., 1., 0., 0., 0.],\n",
       "       [0., 0., 0., 0., 0., 1., 0., 0.],\n",
       "       [0., 0., 0., 0., 0., 0., 1., 0.]])"
      ]
     },
     "execution_count": 5,
     "metadata": {},
     "output_type": "execute_result"
    }
   ],
   "source": [
    "mpoSup(3).tomatrix()"
   ]
  },
  {
   "cell_type": "code",
   "execution_count": 6,
   "metadata": {},
   "outputs": [
    {
     "data": {
      "text/plain": [
       "array([[0., 1., 0., 0., 0., 0., 0., 0.],\n",
       "       [0., 0., 1., 0., 0., 0., 0., 0.],\n",
       "       [0., 0., 0., 1., 0., 0., 0., 0.],\n",
       "       [0., 0., 0., 0., 1., 0., 0., 0.],\n",
       "       [0., 0., 0., 0., 0., 1., 0., 0.],\n",
       "       [0., 0., 0., 0., 0., 0., 1., 0.],\n",
       "       [0., 0., 0., 0., 0., 0., 0., 1.],\n",
       "       [0., 0., 0., 0., 0., 0., 0., 0.]])"
      ]
     },
     "execution_count": 6,
     "metadata": {},
     "output_type": "execute_result"
    }
   ],
   "source": [
    "mpoSdown(3).tomatrix()"
   ]
  },
  {
   "cell_type": "code",
   "execution_count": 7,
   "metadata": {},
   "outputs": [
    {
     "data": {
      "text/plain": [
       "array([[1., 3., 0., 0., 0., 0., 0., 0.],\n",
       "       [2., 1., 3., 0., 0., 0., 0., 0.],\n",
       "       [0., 2., 1., 3., 0., 0., 0., 0.],\n",
       "       [0., 0., 2., 1., 3., 0., 0., 0.],\n",
       "       [0., 0., 0., 2., 1., 3., 0., 0.],\n",
       "       [0., 0., 0., 0., 2., 1., 3., 0.],\n",
       "       [0., 0., 0., 0., 0., 2., 1., 3.],\n",
       "       [0., 0., 0., 0., 0., 0., 2., 1.]])"
      ]
     },
     "execution_count": 7,
     "metadata": {},
     "output_type": "execute_result"
    }
   ],
   "source": [
    "mpo_combined(3, 1, 2, 3).tomatrix()"
   ]
  },
  {
   "cell_type": "code",
   "execution_count": 8,
   "metadata": {},
   "outputs": [],
   "source": [
    "from mps.truncate import simplify\n",
    "\n",
    "def apply_all(mpos, ψmps, canonical=True, tolerance=DEFAULT_TOLERANCE, normalize=True, debug=[]):\n",
    "    def multiply(A, B):\n",
    "        C = np.einsum('aijb,cjd->acibd',A,B)\n",
    "        s = C.shape\n",
    "        return C.reshape(s[0]*s[1],s[2],s[3]*s[4])\n",
    "    err = 0.\n",
    "    for (i,mpo) in enumerate(reversed(mpos)):\n",
    "        ψmps = MPS([multiply(A,B) for A,B in zip(mpo,ψmps)])\n",
    "        if canonical:\n",
    "            newψmps, theerr, _ = simplify(ψmps, tolerance=tolerance, normalize=normalize)\n",
    "            theerr = np.sqrt(theerr)\n",
    "            if 'norm' in debug:\n",
    "                print(f'Initial state norm {ψmps.norm2()}, final {newψmps.norm2()}')  \n",
    "            elif 'trunc' in debug:\n",
    "                n1 = ψmps.norm2()\n",
    "                sc = abs(mps.expectation.scprod(ψmps, newψmps))\n",
    "                n2 = newψmps.norm2()\n",
    "                real_err = np.sqrt(2*np.abs(1.0 - sc/np.sqrt(n1*n2)))\n",
    "                D = max(A.shape[-1] for A in ψmps)\n",
    "                print(f'error={theerr:5g}, estimate={np.sqrt(real_err):5g}, norm={n1:5f}, after={n2:3f}, D={D}')\n",
    "            err += theerr\n",
    "            ψmps = newψmps\n",
    "            newψmps = None\n",
    "    return ψmps, err"
   ]
  },
  {
   "cell_type": "markdown",
   "metadata": {},
   "source": [
    "### b) Fokker-Planck equation"
   ]
  },
  {
   "cell_type": "markdown",
   "metadata": {},
   "source": [
    "Let us assume a variable that follows a Wiener process $W$ in the Ito representation\n",
    "$$dX = \\mu(X,t)dt + \\sigma(X,t) dW.$$\n",
    "\n",
    "The probability distribution for the random variable $X$ evolves as\n",
    "$$\\frac{\\partial}{\\partial t}p(x,t) = -\\frac{\\partial}{\\partial x} \\left[\\mu(x,t)p(x,t)\\right] + \\frac{\\partial^2}{\\partial x^2}[D(x,t)p(x,t)].$$"
   ]
  },
  {
   "cell_type": "markdown",
   "metadata": {},
   "source": [
    "We are going to use a finite-difference solver for this equation, with the following approximations\n",
    "$$\\frac{\\partial}{\\partial x}f(x) = \\frac{f(x+\\delta)-f(x-\\delta)}{2\\delta} + \\mathcal{O}(\\delta^2),$$\n",
    "$$\\frac{\\partial^2}{\\partial x^2}f(x) = \\frac{f(x+\\delta)+f(x-\\delta)-2f(x)}{\\delta^2} + \\mathcal{O}(\\delta).$$"
   ]
  },
  {
   "cell_type": "markdown",
   "metadata": {},
   "source": [
    "Assuming constant drift and diffusion and labelling $p(x_s,t) = p_s(t),$ we have\n",
    "$$p_s(t+\\delta t) = p_s(t) + \\delta t \\left[\\mu\\frac{p_{s-1}(t)-p_{s+1}(t)}{2\\delta{x}}\n",
    "+ D \\frac{p_{s+1}(t)+p_{s-1}(t)-2p_s(t)}{\\delta{x}^2}\\right].$$"
   ]
  },
  {
   "cell_type": "markdown",
   "metadata": {},
   "source": [
    "In terms of our ladder operators,\n",
    "$$\\vec{p}(t+\\delta t) = \\left(1-2\\delta{t}\\frac{D}{\\delta{x}^2}\\right)\\vec{p}\n",
    "+\\delta t\\left(-\\frac{\\mu}{2\\delta{x}}+\\frac{D}{\\delta{x}^2}\\right)S^+\\vec{p}\n",
    "+\\delta t\\left(+\\frac{\\mu}{2\\delta{x}}+\\frac{D}{\\delta{x}^2}\\right)S^-\\vec{p}.$$"
   ]
  },
  {
   "cell_type": "markdown",
   "metadata": {},
   "source": [
    "But this equation blows exponentially unless $\\delta tD/\\delta x^2 \\ll 1.$"
   ]
  },
  {
   "cell_type": "markdown",
   "metadata": {},
   "source": [
    "An alternative is to write\n",
    "$$\\frac{p(t+\\delta t)-p(t)}{\\delta t} = \\frac{1}{2}\\hat{G}\\left[p(t+\\delta t)+p(t)\\right],$$\n",
    "leading to\n",
    "$$\\left(1-\\frac{\\delta t}{2}\\hat{G}\\right) p(t+\\delta t) = \\left(1 + \\frac{\\delta t}{2}\\hat{G}\\right)p(t),$$\n",
    "and the numerically stable solution\n",
    "$$ p(t+\\delta t) = \\left(1-\\frac{\\delta t}{2}\\hat{G}\\right)^{-1}\\left(1 + \\frac{\\delta t}{2}\\hat{G}\\right)p(t).$$"
   ]
  },
  {
   "cell_type": "markdown",
   "metadata": {},
   "source": [
    "The following operator implements the MPO $(1+\\delta{t}\\hat{G}).$ The sign and factors $\\tfrac{1}{2}$ can be changed by simply changing $\\delta{t}.$"
   ]
  },
  {
   "cell_type": "code",
   "execution_count": 9,
   "metadata": {},
   "outputs": [],
   "source": [
    "def mpo_drift(n, δt, δx, μ, D, **kwdargs):\n",
    "    Dx = D/δx**2\n",
    "    μx = μ/(2*δx)\n",
    "    a = 1 - 2*δt*Dx\n",
    "    b = δt*(Dx-μx)\n",
    "    c = δt*(Dx+μx)\n",
    "    print(f'δx={δx}, δt={δt}, D={D}, μ={μ}')\n",
    "    print(f'Coefficients: a={a}, b={b}, c={c}')\n",
    "    return mpo_combined(n, a, b, c, **kwdargs)"
   ]
  },
  {
   "cell_type": "markdown",
   "metadata": {},
   "source": [
    "We test these methods first with wavefunctions"
   ]
  },
  {
   "cell_type": "code",
   "execution_count": 10,
   "metadata": {},
   "outputs": [],
   "source": [
    "import scipy.sparse as sp\n",
    "import os.path\n",
    "from mps.truncate import cgs\n",
    "\n",
    "def FokkerPlanck(N, σ, T, steps, b=None, a=None, μ=0.0, D=1.0, filename=None):\n",
    "\n",
    "    if b is None:\n",
    "        b = 7*σ\n",
    "    if a is None:\n",
    "        a = -b\n",
    "    δx = (b-a)/2**N\n",
    "    times = np.linspace(0, T, steps)\n",
    "    δt = times[1]\n",
    "    ψmps0 = GaussianMPS(N, σ, a=a, b=b, GR=False, canonical=True, normalize=True)\n",
    "    ψ0 = ψmps0.tovector()\n",
    "    x = np.linspace(a, b, 2**N)\n",
    "\n",
    "    mpo1 = mpo_drift(N, 0.5*δt, δx, μ, D, simplify=False)\n",
    "    mpo2 = mpo_drift(N, -0.5*δt, δx, μ, D, simplify=False)\n",
    "    op1 = sp.csr_matrix(mpo1.tomatrix())\n",
    "    op2 = sp.csr_matrix(mpo2.tomatrix())\n",
    "    ψ = [ψ0]\n",
    "    print(f'int(ψ)={np.sum(ψ0)}, |ψ|={np.linalg.norm(ψ0)}')\n",
    "    for t in times[1:]:\n",
    "        ψ0 = sp.linalg.spsolve(op2, op1 @ ψ0)\n",
    "        n0 = np.linalg.norm(ψ0)\n",
    "        ψmps0, err = mps.truncate.cgs(mpo2, mpo1.apply(ψmps0))\n",
    "        ψ1 = ψmps0.tovector()\n",
    "        n1 = np.linalg.norm(ψ1)\n",
    "        sc = 1 - np.vdot(ψ1, ψ0)/(n1*n0)\n",
    "        print(f'int(ψ)={np.sum(ψ0):5f}, |ψ|={n0:5f}, |ψmps|={n1:5f}, sc={sc:5g}, err={err:5g}')\n",
    "        ψ.append(ψ1)\n",
    "\n",
    "    if filename is not None:\n",
    "        with open(filename,'wb') as f:\n",
    "            pickle.dump((ψ, x, times, D, μ, b), f)\n",
    "    return ψ, x, times\n",
    "\n",
    "if not os.path.exists('data/fokker-planck-2d-a.pkl'):\n",
    "    FokkerPlanck(10, 1.0, 10, 100, μ=-0.2, D=0.1, b=10, filename='data/fokker-planck-2d-a.pkl');"
   ]
  }
 ],
 "metadata": {
  "kernelspec": {
   "display_name": "Python 3",
   "language": "python",
   "name": "python3"
  },
  "language_info": {
   "codemirror_mode": {
    "name": "ipython",
    "version": 3
   },
   "file_extension": ".py",
   "mimetype": "text/x-python",
   "name": "python",
   "nbconvert_exporter": "python",
   "pygments_lexer": "ipython3",
   "version": "3.7.6"
  }
 },
 "nbformat": 4,
 "nbformat_minor": 4
}
