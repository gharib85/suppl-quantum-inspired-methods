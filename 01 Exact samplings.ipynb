{
 "cells": [
  {
   "cell_type": "code",
   "execution_count": 1,
   "metadata": {},
   "outputs": [],
   "source": [
    "# file: core.py\n",
    "\n",
    "import math\n",
    "import numpy as np\n",
    "import matplotlib.pyplot as plt\n",
    "from scipy.integrate import simps\n",
    "from math import pi as π\n",
    "epsilon = np.finfo(np.float64).eps\n",
    "from scipy.special import erf\n",
    "from numpy import cos, sin, exp"
   ]
  },
  {
   "cell_type": "code",
   "execution_count": 2,
   "metadata": {},
   "outputs": [
    {
     "name": "stdout",
     "output_type": "stream",
     "text": [
      "Global props:\n",
      "fontsizes :\n",
      "     tiny :  6\n",
      "     scriptsize :  8\n",
      "     footnotesize :  9\n",
      "     small :  10\n",
      "     normalsize :  11\n",
      "     large :  12\n",
      "     Large :  14\n",
      "     LARGE :  17\n",
      "     huge :  20\n",
      "     Huge :  25\n",
      "colors :\n",
      "     quantumviolet :  #53257F\n",
      "     quantumgray :  #555555\n"
     ]
    }
   ],
   "source": [
    "from quantum_plots import *"
   ]
  },
  {
   "cell_type": "markdown",
   "metadata": {},
   "source": [
    "## Probability samplings"
   ]
  },
  {
   "cell_type": "markdown",
   "metadata": {},
   "source": [
    "### a) Grover-Rudolph probability states"
   ]
  },
  {
   "cell_type": "markdown",
   "metadata": {},
   "source": [
    "The GR quantum representation of a probability distribution $p(x)$ over an interval $[a,b]$ with a discretization of $2^m$ points is given by the state\n",
    "$$|\\psi\\rangle = \\sum_s \\sqrt{p^{(m)}(x_s)}|s\\rangle$$\n",
    "with the sampled coordinates\n",
    "$$x_s = a + \\frac{b-a}{2^m}s = a + \\delta_m s,\\;s=0,1,2\\ldots 2^m-1.$$\n",
    "and the coarse grained probabilities\n",
    "$$p^{(m)}(x_s) := \\int_{x_s}^{x_s+\\delta_m} p(w) \\mathrm{d}w.$$"
   ]
  },
  {
   "cell_type": "markdown",
   "metadata": {},
   "source": [
    "One way to do this is to sample more finely the probabilities, subdividing the intervals $[x_s,x_s+\\delta_m]$ into $2^k$ subintervals, and use precise approximation for that."
   ]
  },
  {
   "cell_type": "code",
   "execution_count": 3,
   "metadata": {},
   "outputs": [],
   "source": [
    "# file: core.py\n",
    "\n",
    "def GR_state(m, p, a, b, k=None, normalize=True):\n",
    "    \"\"\"Given a function of one variable p(x), an interval [a,b] and\n",
    "    a sampling of 2**m points, estimate the integrals of p(x) in\n",
    "    each of the intervals.\n",
    "    \n",
    "    Arguments\n",
    "    ---------\n",
    "    m  -- log2 of the sampling size\n",
    "    p  -- callable object that returns the probability p(x)\n",
    "    a  -- beginning of interval\n",
    "    b  -- end of interval (b>a)\n",
    "    k  -- log2 of the subdivisions of 'm' to estimate the integrals\n",
    "    normalize -- True if we adjust the norm of ψ\n",
    "    \n",
    "    Output\n",
    "    ------\n",
    "    ψ  -- probability state\n",
    "    x  -- sampling interval\n",
    "    \"\"\"\n",
    "    if k is None:\n",
    "        k = 4\n",
    "    # This is the desired sampling interval\n",
    "    rm = a+(b-a)*np.arange(2**m)/2**m\n",
    "    #\n",
    "    # We subsample this interval, creating new coordinates\n",
    "    # that provide a more accurate estimate of the integral\n",
    "    ϵk = (b-a)*np.arange(2**k+1)/2**(m+k)\n",
    "    w = rm.reshape(2**m,1)+ϵk.reshape(1,2**k+1)\n",
    "    #\n",
    "    # Use Scipy's Simpson's rule for integration\n",
    "    pw = simps(p(w), w[0,:], axis=-1)\n",
    "    #\n",
    "    # Maybe correct small rounding errors and imprecisions\n",
    "    # in simps() due to limited sampling\n",
    "    if normalize:\n",
    "        pw /= np.sum(pw)\n",
    "    return np.sqrt(pw), rm"
   ]
  },
  {
   "cell_type": "markdown",
   "metadata": {},
   "source": [
    "This other variant assumes we have an explicit formula for the integral of $p(x)$"
   ]
  },
  {
   "cell_type": "code",
   "execution_count": 4,
   "metadata": {},
   "outputs": [],
   "source": [
    "# file: core.py\n",
    "\n",
    "def GR_state_exact(m, p_int, a, b, k=None, normalize=True):\n",
    "    \"\"\"Given a function of one variable p(x), an interval [a,b] and\n",
    "    a sampling of 2**m points, estimate the integrals of p(x) in\n",
    "    each of the intervals.\n",
    "    \n",
    "    Arguments\n",
    "    ---------\n",
    "    m      -- log2 of the sampling size\n",
    "    p_int  -- callable object such that p_int(a,b) returns the\n",
    "              integral of p(x) among those extremes\n",
    "    a      -- beginning of interval\n",
    "    b      -- end of interval (b>a)\n",
    "    \n",
    "    Output\n",
    "    ------\n",
    "    ψ  -- probability state\n",
    "    x  -- sampling interval\n",
    "    \"\"\"\n",
    "    if k is None:\n",
    "        k = 4\n",
    "    # This is the desired sampling interval\n",
    "    rm = a+(b-a)*np.arange(2**m+1)/2**m\n",
    "    #\n",
    "    # Exact integration\n",
    "    pw = p_int(rm[:-1],rm[1:])\n",
    "    #\n",
    "    # Maybe correct small rounding errors and imprecisions\n",
    "    # in simps() due to limited sampling\n",
    "    if normalize:\n",
    "        pw /= np.sum(pw)\n",
    "    return np.sqrt(pw), rm[:-1]"
   ]
  },
  {
   "cell_type": "markdown",
   "metadata": {},
   "source": [
    "### b) Trivial sampling"
   ]
  },
  {
   "cell_type": "markdown",
   "metadata": {},
   "source": [
    "This is a brute force sampling of the probability, whereby we just take a discrete set of points and draw values from them\n",
    "$$|\\psi\\rangle = \\frac{1}{N^{1/2}}\\sum_{s=0}^{2^m-1} \\sqrt{p(x_s)}|s\\rangle,$$\n",
    "with an approximate normalization\n",
    "$$N = \\sum_s p(x_s) .$$"
   ]
  },
  {
   "cell_type": "code",
   "execution_count": 5,
   "metadata": {},
   "outputs": [],
   "source": [
    "# file: core.py\n",
    "\n",
    "def TS_state(m, p, a, b, normalize=True):\n",
    "    \"\"\"Given a function of one variable p(x), an interval [a,b] and\n",
    "    a sampling of 2**m points, return a quantum state associated to\n",
    "    the discretized sampling of the probability distribution.\n",
    "    \n",
    "    Arguments\n",
    "    ---------\n",
    "    m  -- log2 of the sampling size\n",
    "    p  -- callable object that returns the probability p(x)\n",
    "    a  -- beginning of interval\n",
    "    b  -- end of interval (b>a)\n",
    "\n",
    "    Output\n",
    "    ------\n",
    "    ψ  -- probability state\n",
    "    x  -- sampling interval\n",
    "    \"\"\"\n",
    "    # This is the desired sampling interval\n",
    "    rm = a+(b-a)*np.arange(2**m)/2**m\n",
    "    #\n",
    "    # Use Scipy's Simpson's rule for integration\n",
    "    pw = p(rm) * (rm[1]-rm[0])\n",
    "    #\n",
    "    # Maybe correct small rounding errors and imprecisions\n",
    "    # in simps() due to limited sampling\n",
    "    if normalize:\n",
    "        pw /= np.sum(pw)\n",
    "    return np.sqrt(pw), rm"
   ]
  },
  {
   "cell_type": "markdown",
   "metadata": {},
   "source": [
    "## Particular states"
   ]
  },
  {
   "cell_type": "markdown",
   "metadata": {},
   "source": [
    "### a) Gaussian probability distribution"
   ]
  },
  {
   "cell_type": "code",
   "execution_count": 6,
   "metadata": {},
   "outputs": [],
   "source": [
    "# file: core.py\n",
    "\n",
    "def Gaussian(x, σ, μ=0):\n",
    "    return np.exp(-(x-μ)**2/(2*σ**2))/(np.sqrt(2*π)*σ)\n",
    "\n",
    "def Gaussian_integral(a, b, σ, μ=0):\n",
    "    sqrt2=np.sqrt(2.)\n",
    "    return 0.5*(erf((b-μ)/(sqrt2*σ))-erf((a-μ)/(sqrt2*σ)))\n",
    "\n",
    "def Gaussian_GR(m, σ, μ=0, a=None, b=None, method='exact', **kwdargs):\n",
    "    if a is None:\n",
    "        a = μ-6*σ\n",
    "    if b is None:\n",
    "        b = μ+6*σ\n",
    "    if method == 'exact':\n",
    "        return GR_state_exact(m, lambda a,b: Gaussian_integral(a,b,σ,μ),\n",
    "                              a, b, **kwdargs)\n",
    "    elif method == 'sampling':\n",
    "        return TS_state(m, lambda x: Gaussian(x,σ,μ), a, b, **kwdargs)\n",
    "    elif method == 'integrate':\n",
    "        return GR_state(m, lambda x: Gaussian(x,σ,μ), a, b, **kwdargs)\n",
    "    else:\n",
    "        raise Exception(f'Unknown method {method}')"
   ]
  },
  {
   "cell_type": "code",
   "execution_count": 7,
   "metadata": {},
   "outputs": [],
   "source": [
    "aux_ψ, aux_x = Gaussian_GR(8, σ=1, method='exact', normalize=False)\n",
    "aux_ψ2, aux_x = Gaussian_GR(8, σ=1, method='integrate', normalize=False)\n",
    "aux_ψ3, _ = Gaussian_GR(8, σ=1, method='sampling', normalize=False)"
   ]
  },
  {
   "cell_type": "code",
   "execution_count": 8,
   "metadata": {},
   "outputs": [
    {
     "name": "stdout",
     "output_type": "stream",
     "text": [
      "Normalization exact = 0.9999999980268247\n",
      "Normalization numerics = 0.9999999980268247\n",
      "Normalization sampling = 0.9999999980268247\n"
     ]
    },
    {
     "data": {
      "image/png": "[encoded data removed]",
      "text/plain": [
       "<Figure size 386.4x238.519 with 1 Axes>"
      ]
     },
     "metadata": {},
     "output_type": "display_data"
    }
   ],
   "source": [
    "fig = plot_setup()\n",
    "plt.plot(aux_x, aux_ψ**2, '-', label='GR exact');\n",
    "plt.plot(aux_x, aux_ψ2**2, '--', label='GR numerics');\n",
    "plt.plot(aux_x, aux_ψ3**2, '-.', label='Sampling');\n",
    "plt.legend(fontsize=8)\n",
    "print(f'Normalization exact = {np.sum(aux_ψ**2)}')\n",
    "print(f'Normalization numerics = {np.sum(aux_ψ**2)}')\n",
    "print(f'Normalization sampling = {np.sum(aux_ψ**2)}')"
   ]
  },
  {
   "cell_type": "markdown",
   "metadata": {},
   "source": [
    "### b) Lognormal distribution"
   ]
  },
  {
   "cell_type": "markdown",
   "metadata": {},
   "source": [
    "A popular probability distribution used in finance\n",
    "$$p(x) \\propto \\frac{1}{x} e^{-((\\log(x)-\\mu)/\\sigma)^2},$$\n",
    "defined over positive coordinates $x\\geq 0.$$"
   ]
  },
  {
   "cell_type": "code",
   "execution_count": 9,
   "metadata": {},
   "outputs": [],
   "source": [
    "# file: core.py\n",
    "\n",
    "def Lognormal(x, σ, μ=0):\n",
    "    return Gaussian(np.log(x),σ,μ)/(x+epsilon)\n",
    "\n",
    "def Lognormal_integral(a, b, σ, μ=0):\n",
    "    return Gaussian_integral(np.log(a), np.log(b), σ, μ)\n",
    "\n",
    "def Lognormal_GR(m, σ, μ=1., a=None, b=None, method='exact', **kwdargs):\n",
    "    if a is None:\n",
    "        a = epsilon\n",
    "    if b is None:\n",
    "        b = μ+50*σ\n",
    "    if method == 'exact':\n",
    "        return GR_state_exact(m, lambda a,b: Lognormal_integral(a,b,σ,μ),\n",
    "                              a, b, **kwdargs)\n",
    "    elif method =='integrate':\n",
    "        return GR_state(m, lambda x: Lognormal(x,σ,μ), a, b, **kwdargs)\n",
    "    elif method == 'sampling':\n",
    "        return TS_state(m, lambda x: Lognormal(x,σ,μ), a, b, **kwdargs)\n",
    "    else:\n",
    "        raise Exception(f'Unknown method {method}')"
   ]
  },
  {
   "cell_type": "code",
   "execution_count": 10,
   "metadata": {},
   "outputs": [],
   "source": [
    "aux_ψ, aux_x = Lognormal_GR(10, σ=1, method='exact', normalize=False)\n",
    "aux_ψ2, aux_x = Lognormal_GR(10, σ=1, method='integrate')\n",
    "aux_ψ3, _ = Lognormal_GR(10, σ=1, method='sampling')"
   ]
  },
  {
   "cell_type": "code",
   "execution_count": 11,
   "metadata": {},
   "outputs": [
    {
     "name": "stdout",
     "output_type": "stream",
     "text": [
      "Normalization exact = 0.998315120566396\n",
      "Normalization numerics = 0.998315120566396\n",
      "Normalization sampling = 0.998315120566396\n"
     ]
    },
    {
     "data": {
      "image/png": "[encoded data removed]",
      "text/plain": [
       "<Figure size 386.4x238.519 with 1 Axes>"
      ]
     },
     "metadata": {},
     "output_type": "display_data"
    }
   ],
   "source": [
    "fig = plot_setup()\n",
    "plt.plot(aux_x, aux_ψ**2, '-', label='GR exact');\n",
    "plt.plot(aux_x, aux_ψ2**2, '--', label='GR numerics');\n",
    "plt.plot(aux_x, aux_ψ3**2, '-.', label='Sampling');\n",
    "plt.legend(fontsize=8)\n",
    "print(f'Normalization exact = {np.sum(aux_ψ**2)}')\n",
    "print(f'Normalization numerics = {np.sum(aux_ψ**2)}')\n",
    "print(f'Normalization sampling = {np.sum(aux_ψ**2)}')"
   ]
  },
  {
   "cell_type": "markdown",
   "metadata": {},
   "source": [
    "### c) Lorentzian distribution"
   ]
  },
  {
   "cell_type": "markdown",
   "metadata": {},
   "source": [
    "Another probability distribution, characterized by its center $\\mu$ and width $\\sigma$\n",
    "$$p(x) = \\frac{1}{\\pi}\\frac{(\\sigma/2)^2}{(x-\\mu)^2 - (\\sigma/2)^2}.$$"
   ]
  },
  {
   "cell_type": "code",
   "execution_count": 12,
   "metadata": {},
   "outputs": [],
   "source": [
    "# file: core.py\n",
    "\n",
    "def Lorentzian(x, σ, μ=0):\n",
    "    γ=0.5*σ\n",
    "    return (γ/π)/((x-μ)**2+γ**2)\n",
    "\n",
    "def Lorentzian_integral(a, b, σ, μ=0):\n",
    "    return (np.arctan((b-μ)*(2/σ))-np.arctan((a-μ)*(2/σ)))/π\n",
    "\n",
    "def Lorentzian_GR(m, σ, μ=0., a=None, b=None, method='exact', **kwdargs):\n",
    "    if a is None:\n",
    "        a = μ-10*σ\n",
    "    if b is None:\n",
    "        b = μ+10*σ\n",
    "    if method=='exact':\n",
    "        return GR_state_exact(m, lambda a,b: Lorentzian_integral(a,b,σ,μ),\n",
    "                              a, b, **kwdargs)\n",
    "    elif method=='integrate':\n",
    "        return GR_state(m, lambda x: Lorentzian(x,σ,μ), a, b, **kwdargs)\n",
    "    elif method=='sampling':\n",
    "        return TS_state(m, lambda x: Lorentzian(x,σ,μ), a, b, **kwdargs)\n",
    "    else:\n",
    "        raise Exception(f'Unknown method {method}')"
   ]
  },
  {
   "cell_type": "code",
   "execution_count": 13,
   "metadata": {},
   "outputs": [],
   "source": [
    "aux_ψ, aux_x = Lorentzian_GR(10, σ=1, method='exact', normalize=False)\n",
    "aux_ψ2, aux_x = Lorentzian_GR(10, σ=1, method='integrate')\n",
    "aux_ψ3, _ = Lorentzian_GR(10, σ=1, method='sampling')"
   ]
  },
  {
   "cell_type": "code",
   "execution_count": 14,
   "metadata": {},
   "outputs": [
    {
     "name": "stdout",
     "output_type": "stream",
     "text": [
      "Normalization exact = 0.9681954974876472\n",
      "Normalization numerics = 0.9681954974876472\n",
      "Normalization sampling = 0.9681954974876472\n"
     ]
    },
    {
     "data": {
      "image/png": "[encoded data removed]",
      "text/plain": [
       "<Figure size 386.4x238.519 with 1 Axes>"
      ]
     },
     "metadata": {},
     "output_type": "display_data"
    }
   ],
   "source": [
    "fig = plot_setup()\n",
    "plt.plot(aux_x, aux_ψ**2, '-', label='GR exact');\n",
    "plt.plot(aux_x, aux_ψ2**2, '--', label='GR numerics');\n",
    "plt.plot(aux_x, aux_ψ3**2, '-.', label='Sampling');\n",
    "plt.legend(fontsize=8)\n",
    "print(f'Normalization exact = {np.sum(aux_ψ**2)}')\n",
    "print(f'Normalization numerics = {np.sum(aux_ψ**2)}')\n",
    "print(f'Normalization sampling = {np.sum(aux_ψ**2)}')"
   ]
  },
  {
   "cell_type": "markdown",
   "metadata": {},
   "source": [
    "### d) Weird distribution"
   ]
  },
  {
   "cell_type": "markdown",
   "metadata": {},
   "source": [
    "A multimodal distribution, with sufficient sines and cosines to make it non-trivial, but still bandwidth limited."
   ]
  },
  {
   "cell_type": "code",
   "execution_count": 15,
   "metadata": {},
   "outputs": [],
   "source": [
    "# file: core.py\n",
    "\n",
    "from numpy import cos, exp, sin\n",
    "\n",
    "def Weird(x, σ):\n",
    "    σ2 = σ**2\n",
    "    Nσ = (2-1/(1+100*σ2)-1/(1+4*σ2)-2/(1+16*σ2)+2/(1+36*σ2))/8\n",
    "    return exp(-x)*(sin(2*σ*x)*cos(3*σ*x))**2/np.sqrt(Nσ)\n",
    "\n",
    "def Weird1_integral(a, σ):\n",
    "    σ2 = σ*σ\n",
    "    Nσ = (2-1/(1+100*σ2)-1/(1+4*σ2)-2/(1+16*σ2)+2/(1+36*σ2))\n",
    "    f = (-2 + cos(2*a*σ)/(1+4*σ2) + 2*cos(4*a*σ)/(1+16*σ2) - 2*cos(6*a*σ)/(1+36*σ2)\n",
    "         + cos(10*a*σ)/(1+100*σ2) - 2*σ*sin(2*a*σ)/(1+4*σ2) - 8*σ*sin(4*a*σ)/(1+16*σ2)\n",
    "         + 12*σ*sin(6*a*σ)/(1+36*σ2) - 10*σ*sin(10*a*σ)/(1+100*σ2))\n",
    "    return 1+ exp(-a) * f / Nσ\n",
    "\n",
    "def Weird_integral(a, b, σ):\n",
    "    return Weird1_integral(b,σ) - Weird1_integral(a,σ)\n",
    "\n",
    "def Weird_GR(m, σ, a=None, b=None, method='exact', **kwdargs):\n",
    "    if a is None:\n",
    "        a = 0\n",
    "    if b is None:\n",
    "        b = 9*σ\n",
    "    if method=='exact':\n",
    "        return GR_state_exact(m, lambda a,b: Weird_integral(a,b,σ),\n",
    "                              a, b, **kwdargs)\n",
    "    elif method=='integrate':\n",
    "        return GR_state(m, lambda x: Weird(x,σ), a, b, **kwdargs)\n",
    "    elif method=='sampling':\n",
    "        return TS_state(m, lambda x: Weird(x,σ), a, b, **kwdargs)\n",
    "    else:\n",
    "        raise Exception(f'Unknown method {method}')"
   ]
  },
  {
   "cell_type": "code",
   "execution_count": 16,
   "metadata": {},
   "outputs": [],
   "source": [
    "aux_ψ, aux_x = Weird_GR(10, σ=1, method='exact', normalize=False)\n",
    "aux_ψ2, aux_x = Weird_GR(10, σ=1, method='integrate')\n",
    "aux_ψ3, _ = Weird_GR(10, σ=1, method='sampling')"
   ]
  },
  {
   "cell_type": "code",
   "execution_count": 17,
   "metadata": {},
   "outputs": [
    {
     "name": "stdout",
     "output_type": "stream",
     "text": [
      "Normalization exact = 0.9999038436848309\n",
      "Normalization numerics = 0.9999038436848309\n",
      "Normalization sampling = 0.9999038436848309\n"
     ]
    },
    {
     "data": {
      "image/png": "[encoded data removed]",
      "text/plain": [
       "<Figure size 386.4x238.519 with 1 Axes>"
      ]
     },
     "metadata": {},
     "output_type": "display_data"
    }
   ],
   "source": [
    "fig = plot_setup()\n",
    "plt.plot(aux_x, aux_ψ**2, '-', label='GR exact');\n",
    "plt.plot(aux_x, aux_ψ2**2, '--', label='GR numerics');\n",
    "plt.plot(aux_x, aux_ψ3**2, '-.', label='Sampling');\n",
    "plt.legend(fontsize=8)\n",
    "print(f'Normalization exact = {np.sum(aux_ψ**2)}')\n",
    "print(f'Normalization numerics = {np.sum(aux_ψ**2)}')\n",
    "print(f'Normalization sampling = {np.sum(aux_ψ**2)}')"
   ]
  },
  {
   "cell_type": "markdown",
   "metadata": {},
   "source": [
    "## Discretized Gaussian states"
   ]
  },
  {
   "cell_type": "markdown",
   "metadata": {},
   "source": [
    "We are going to study multi-mode Gaussian probability distributions. These are defined by a covariance matrix $\\Sigma$ and a vector of mean values, $\\vec{\\mu},$\n",
    "$$p(\\vec{x}) = \\frac{1}{N}\\exp\\left[-\\frac{1}{2}(\\vec{x}-\\vec{\\mu})^T\\Sigma^{-2}(\\vec{x}-\\vec{\\mu})\\right].$$"
   ]
  },
  {
   "cell_type": "markdown",
   "metadata": {},
   "source": [
    "There exists an orthogonal change of variables that diagonalizes the covariance matrix,\n",
    "$$\\Sigma = O^T \\mathrm{diag}(\\sigma_1,\\sigma_2,\\ldots,\\sigma_N) O.$$\n",
    "Introducing the new coordinates\n",
    "$$\\vec{u} = O(\\vec{x}-\\vec{\\mu}),$$\n",
    "we can recompute any expectation value\n",
    "$$\\bar{f}:=\\int f(\\vec{x}) p(\\vec{x})\\mathrm{d}^nx = \\frac{1}{N} \\int f(\\vec{u}) \\prod_i e^{\\frac{1}{2\\sigma_i^2}u_i^2}\\mathrm{d}^nu.$$"
   ]
  },
  {
   "cell_type": "markdown",
   "metadata": {},
   "source": [
    "The first outcome is that\n",
    "$$N=\\frac{1}{(2\\pi)^{N/2}\\prod\\sigma_i} = \\frac{1}{(2\\pi)^{N/2}\\mathrm{det}(\\Sigma)}.$$"
   ]
  },
  {
   "cell_type": "code",
   "execution_count": 18,
   "metadata": {},
   "outputs": [],
   "source": [
    "# file: core.py\n",
    "import scipy.linalg\n",
    "\n",
    "def GaussianNd(m, Σ, a=None, b=None, μ=0):\n",
    "    #\n",
    "    # Guess the dimension of the problem\n",
    "    Σ = np.asarray(Σ)\n",
    "    d = Σ.shape[0]\n",
    "    μ = μ * np.ones(d)\n",
    "    #\n",
    "    # We diagonalize the covariance matrix to find the normal modes\n",
    "    σ, OT = scipy.linalg.eigh(Σ)\n",
    "    #\n",
    "    # This information is useful to set limits to clip the state\n",
    "    σmax = np.max(σ)\n",
    "    if a is None:\n",
    "        a = μ-7*σmax\n",
    "    if b is None:\n",
    "        b = μ+7*σmax\n",
    "    if any(a==b):\n",
    "        raise Exception(f'GaussianNd boundaries coincide\\na={a}\\nb={b}')\n",
    "    #\n",
    "    # We use the sampling method, creating a meshgrid that is large\n",
    "    # enough to fit the Gaussian\n",
    "    D = 2**m\n",
    "    if d == 1:\n",
    "        r = x = np.linspace(a[0],b[0],D).reshape(D,1)\n",
    "    elif d == 2:\n",
    "        x = np.linspace(a[0],b[0],D)\n",
    "        y = np.linspace(a[1],b[1],D)\n",
    "        r = np.zeros((D, D, 2))\n",
    "        r[:,:,0], r[:,:,1] = np.meshgrid(x,y)\n",
    "    elif d == 3:\n",
    "        x = np.linspace(a[0],b[0],D)\n",
    "        y = np.linspace(a[1],b[1],D)\n",
    "        z = np.linspace(a[2],b[2],D)\n",
    "        r = np.zeros((D, D, D, 3))\n",
    "        r[:,:,:,0] = x.reshape(D,1,1)*np.ones((D,D,D))\n",
    "        r[:,:,:,1] = y.reshape(1,D,1)*np.ones((D,D,D))\n",
    "        r[:,:,:,2] = z.reshape(1,1,D)*np.ones((D,D,D))\n",
    "    else:\n",
    "        raise Exception('Dimension d={d} not supported in GaussianNd()')\n",
    "    N = (2*π)**(d/2) * np.prod(σ)\n",
    "    pw = np.exp(-0.5 * np.sum(((r @ OT) / σ)**2, -1))/N\n",
    "    return np.sqrt(pw/np.sum(pw)), r"
   ]
  },
  {
   "cell_type": "code",
   "execution_count": 19,
   "metadata": {},
   "outputs": [
    {
     "data": {
      "image/png": "[encoded data removed]",
      "text/plain": [
       "<Figure size 386.4x386.4 with 1 Axes>"
      ]
     },
     "metadata": {},
     "output_type": "display_data"
    }
   ],
   "source": [
    "aux_ψ, aux_r = GaussianNd(8,np.diag([1,1]))\n",
    "fig = plot_setup(aspect_ratio=1)\n",
    "plt.pcolormesh(aux_r[:,:,0], aux_r[:,:,1], aux_ψ);"
   ]
  },
  {
   "cell_type": "markdown",
   "metadata": {},
   "source": [
    "### 2D squeezed states"
   ]
  },
  {
   "cell_type": "markdown",
   "metadata": {},
   "source": [
    "We can study squeezed states in 2d"
   ]
  },
  {
   "cell_type": "code",
   "execution_count": 20,
   "metadata": {},
   "outputs": [],
   "source": [
    "# file: core.py\n",
    "\n",
    "def cmatrix2d(σ, θ):\n",
    "    O = np.array([[math.cos(θ), math.sin(θ)],\n",
    "                  [-math.sin(θ), math.cos(θ)]])\n",
    "    return O.T @ np.diag(σ) @ O"
   ]
  },
  {
   "cell_type": "code",
   "execution_count": 21,
   "metadata": {},
   "outputs": [],
   "source": [
    "# file: core.py\n",
    "\n",
    "def reorder2d(ψ, m, d=2):\n",
    "    if False:\n",
    "        l = 1\n",
    "        for n in range(m):\n",
    "            ψ = ψ.reshape(d, d**(m-n-1), d, d**(m-n-1), l)\n",
    "            ψ = np.einsum('ijkrl->jrlik',ψ)\n",
    "            l = l * d * d\n",
    "    else:\n",
    "        orig = [dim * m + i for i in range(m) for dim in range(d)]\n",
    "        ψ = np.moveaxis(ψ.reshape([2]*(d*m)), orig, np.arange(d*m))\n",
    "    return ψ.flatten()"
   ]
  },
  {
   "cell_type": "code",
   "execution_count": 22,
   "metadata": {},
   "outputs": [
    {
     "name": "stdout",
     "output_type": "stream",
     "text": [
      "Normalization: 0.9999999999999996\n"
     ]
    },
    {
     "data": {
      "image/png": "[encoded data removed]",
      "text/plain": [
       "<Figure size 386.4x386.4 with 1 Axes>"
      ]
     },
     "metadata": {},
     "output_type": "display_data"
    }
   ],
   "source": [
    "aux_ψ, aux_r = GaussianNd(10,cmatrix2d([1.0,0.1],π/4.))\n",
    "fig = plot_setup(aspect_ratio=1)\n",
    "print(f'Normalization: {np.sum(aux_ψ**2)}')\n",
    "\n",
    "from matplotlib.patches import Arc\n",
    "ax = fig.add_subplot(1,1,1)\n",
    "ax.pcolormesh(aux_r[:,:,0], aux_r[:,:,1], aux_ψ, cmap='Purples');\n",
    "v = np.linspace(-1,1,10)\n",
    "ax.plot(1.5*v, 1.5*v, 'k-.')\n",
    "ax.plot(v, -v, 'k-.')\n",
    "ax.plot(3*v, 0*v, 'k-.')\n",
    "ax.arrow(0,0,1,1,head_width=0.2,facecolor='k')\n",
    "ax.arrow(0,0,-1,-1,head_width=0.2,facecolor='k')\n",
    "ax.arrow(0,0,0.6,-0.6,head_width=0.2,facecolor='k')\n",
    "ax.arrow(0,0,-0.6,0.6,head_width=0.2,facecolor='k')\n",
    "ax.add_patch(Arc((0,0),3,3, theta1=0.0, theta2=45, edgecolor='k', linestyle='-.'))\n",
    "ax.text(1.5, 1.5, '$\\\\sigma_{max}$');\n",
    "ax.text(1, -1, '$\\\\sigma_{min}$');\n",
    "ax.text(1.6, 0.5, '$\\\\theta$')\n",
    "ax.set_xlim([-2.5,2.5])\n",
    "ax.set_ylim([-2.5,2.5]);"
   ]
  },
  {
   "cell_type": "code",
   "execution_count": 23,
   "metadata": {},
   "outputs": [],
   "source": [
    "import os\n",
    "import pickle\n",
    "from time import process_time\n",
    "\n",
    "def make_entropies2d(M=10, filename='entropies2d-m10.pkl'):\n",
    "    def entropies(m, σ, θ, reorder=False):\n",
    "        print(f'Running with m={m}, σ={σ}, θ={θ}')\n",
    "        t0 = process_time()\n",
    "        ψ, _, _ = GaussianNd(m, cmatrix2d(σ, θ))\n",
    "        if reorder:\n",
    "            ψ = reorder2d(ψ, m, 2)\n",
    "        t1 = process_time() - t0\n",
    "        print(f'State construction {t1}s')\n",
    "        S = [Schmidt(ψ, i, 2*m-i)[0] for i in range(1,2*m)]\n",
    "        t2 = process_time() - t1\n",
    "        print(f'Entropies {S}')\n",
    "        print(f'Full computation {t2}s')\n",
    "        return S\n",
    "\n",
    "    if not os.path.exists(filename):\n",
    "        σs = np.linspace(0.1,1.,21)\n",
    "        S1 = [max(entropies(M, [1.0, σ], 0)) for σ in σs]\n",
    "        S2 = [max(entropies(M, [1.0, σ], π/3.)) for σ in σs]\n",
    "        S3 = [max(entropies(M, [1.0, σ], π/4.)) for σ in σs]\n",
    "        S4 = [max(entropies(M, [1.0, σ], π/4., True)) for σ in σs]\n",
    "        with open(filename,'wb') as f:\n",
    "            pickle.dump((M, σs, S1, S2, S3, S4), f)"
   ]
  },
  {
   "cell_type": "code",
   "execution_count": 24,
   "metadata": {},
   "outputs": [],
   "source": [
    "make_entropies2d(M=5, filename='data/entropies2d-m5.pkl')"
   ]
  },
  {
   "cell_type": "code",
   "execution_count": 25,
   "metadata": {},
   "outputs": [],
   "source": [
    "make_entropies2d(M=7, filename='data/entropies2d-m7.pkl')"
   ]
  },
  {
   "cell_type": "code",
   "execution_count": 26,
   "metadata": {},
   "outputs": [],
   "source": [
    "make_entropies2d(M=10, filename='data/entropies2d-m10.pkl')"
   ]
  },
  {
   "cell_type": "code",
   "execution_count": 27,
   "metadata": {},
   "outputs": [],
   "source": [
    "make_entropies2d(M=12, filename='data/entropies2d-m12.pkl')"
   ]
  },
  {
   "cell_type": "code",
   "execution_count": 28,
   "metadata": {},
   "outputs": [],
   "source": [
    "make_entropies2d(M=14, filename='data/entropies2d-m14.pkl')"
   ]
  },
  {
   "cell_type": "markdown",
   "metadata": {},
   "source": [
    "### 3D squeezed states"
   ]
  },
  {
   "cell_type": "code",
   "execution_count": 29,
   "metadata": {},
   "outputs": [],
   "source": [
    "# file: core.py\n",
    "\n",
    "def reorder3d(ψ, m, d=2):\n",
    "    l = 1\n",
    "    for n in range(m):\n",
    "        ψ = ψ.reshape(d, d**(m-n-1), d, d**(m-n-1), d, d**(m-n-1), l)\n",
    "        ψ = np.einsum('ijmnpql->jnqlimp',ψ)\n",
    "        l = l * d * d * d\n",
    "    return ψ.flatten()"
   ]
  },
  {
   "cell_type": "code",
   "execution_count": 30,
   "metadata": {},
   "outputs": [],
   "source": [
    "# file: core.py\n",
    "\n",
    "def cmatrix3d(σ, θ1, θ2):\n",
    "    U1 = np.array([[1,0,0],\n",
    "                   [0,math.cos(θ1), math.sin(θ1)],\n",
    "                   [0,-math.sin(θ1), math.cos(θ1)]])\n",
    "    U2 = np.array([[math.cos(θ2), math.sin(θ2), 0],\n",
    "                   [-math.sin(θ2), math.cos(θ2), 0],\n",
    "                   [0,0,1]])\n",
    "    O = U1 @ U2\n",
    "    return O.T @ np.diag(σ) @ O"
   ]
  },
  {
   "cell_type": "code",
   "execution_count": 31,
   "metadata": {},
   "outputs": [],
   "source": [
    "from core import *\n",
    "import os\n",
    "import pickle\n",
    "\n",
    "def make_entropies3d(M=7, filename='entropies3d.pkl'):\n",
    "    def entropies(m, σ, θ, reorder=False):\n",
    "        ψ, *_ = GaussianNd(m, cmatrix3d([σ, 1, σ], θ, θ))\n",
    "        if reorder:\n",
    "            ψ = reorder3d(ψ, m, 2)\n",
    "        return [Schmidt(ψ, i, 3*m-i)[0] for i in range(1,3*m)]\n",
    "\n",
    "    if not os.path.exists(filename):\n",
    "        σs = np.linspace(0.1,1.,21)\n",
    "        S1 = [max(entropies(M, σ, 0)) for σ in σs]\n",
    "        S3 = [max(entropies(M, σ, π/4.)) for σ in σs]\n",
    "        S4 = [max(entropies(M, σ, π/4., True)) for σ in σs]\n",
    "        with open(filename,'wb') as f:\n",
    "            pickle.dump((M, σs, S1, S3, S4),f)\n"
   ]
  },
  {
   "cell_type": "code",
   "execution_count": 32,
   "metadata": {},
   "outputs": [],
   "source": [
    "make_entropies3d(M=5, filename='data/entropies3d-m5.pkl')"
   ]
  },
  {
   "cell_type": "code",
   "execution_count": 33,
   "metadata": {},
   "outputs": [],
   "source": [
    "make_entropies3d(M=7, filename='data/entropies3d-m7.pkl')"
   ]
  },
  {
   "cell_type": "markdown",
   "metadata": {},
   "source": [
    "### Study of entanglement"
   ]
  },
  {
   "cell_type": "markdown",
   "metadata": {},
   "source": [
    "We use a Schmidt decomposition to gather the entropy of entanglement in a function $\\psi$ encoded with $L+R$ qubits, which are assigned to two partitions."
   ]
  },
  {
   "cell_type": "code",
   "execution_count": 34,
   "metadata": {},
   "outputs": [],
   "source": [
    "# file: core.py\n",
    "import scipy.linalg\n",
    "\n",
    "def Schmidt(ψ, L, R, d=2):\n",
    "    \"\"\"Given a d^N state, with N=L+R, perform a decomposition into\n",
    "    L and R subsystems and compute the Schmidt values and entropy.\"\"\"\n",
    "    s = scipy.linalg.svd(ψ.reshape(d**L, d**R), compute_uv = False,\n",
    "                         lapack_driver='gesvd')\n",
    "    λ = s*s\n",
    "    λ /= np.sum(λ)\n",
    "    λ = λ[np.where(λ>0)[0]]\n",
    "    entropy = np.sum(-λ*np.log2(λ))\n",
    "    return entropy, λ"
   ]
  }
 ],
 "metadata": {
  "kernelspec": {
   "display_name": "Python 3",
   "language": "python",
   "name": "python3"
  },
  "language_info": {
   "codemirror_mode": {
    "name": "ipython",
    "version": 3
   },
   "file_extension": ".py",
   "mimetype": "text/x-python",
   "name": "python",
   "nbconvert_exporter": "python",
   "pygments_lexer": "ipython3",
   "version": "3.7.6"
  }
 },
 "nbformat": 4,
 "nbformat_minor": 4
}
